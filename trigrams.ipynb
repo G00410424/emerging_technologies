{
 "cells": [
  {
   "cell_type": "markdown",
   "metadata": {},
   "source": [
    "Task 1"
   ]
  },
  {
   "cell_type": "code",
   "execution_count": 1,
   "metadata": {},
   "outputs": [],
   "source": [
    "import json"
   ]
  },
  {
   "cell_type": "markdown",
   "metadata": {},
   "source": [
    "## Task 1: Third-Order Letter Approximation Model\n",
    "In this task, we build a trigram model based on sequences of three consecutive characters from a text.\n",
    "We will:\n",
    "1. Read five books.\n",
    "2. Clean the text by removing unwanted characters.\n",
    "3. Remove the preamble and postamble of the books.\n",
    "4. Build a trigram model."
   ]
  },
  {
   "cell_type": "markdown",
   "metadata": {},
   "source": [
    "### Step 1: Reading the File\n",
    "\n",
    "The function `read_file()` takes the file path of a text file as input and reads the entire content of the file. This is useful for loading the text of a book into memory so that we can process it later.\n"
   ]
  },
  {
   "cell_type": "code",
   "execution_count": 1,
   "metadata": {},
   "outputs": [],
   "source": [
    "# Step 1: Read the file from the given file path\n",
    "def read_file(file_path):\n",
    "    \"\"\"\n",
    "    Reads the entire content of a file given the file path.\n",
    "    \n",
    "    :param file_path: Path to the file to be read\n",
    "    :return: Text content of the file as a string\n",
    "    \"\"\"\n",
    "    with open(file_path, 'r', encoding='utf-8') as f:\n",
    "        text = f.read()  # Read all the content of the file\n",
    "    return text\n"
   ]
  },
  {
   "cell_type": "markdown",
   "metadata": {},
   "source": [
    "### Step 2: Cleaning the Text\n",
    "\n",
    "The function `clean_text()` cleans the text by:\n",
    "- Removing all characters except for letters, spaces, and full stops.\n",
    "- Converting all letters to uppercase.\n",
    "\n",
    "This ensures that we are working with a standardized and clean text before building the trigram model.\n"
   ]
  },
  {
   "cell_type": "code",
   "execution_count": 2,
   "metadata": {},
   "outputs": [],
   "source": [
    "import re  # Importing regular expressions for text cleaning\n",
    "\n",
    "# Step 2: Clean the text by removing unwanted characters and converting to uppercase\n",
    "def clean_text(text):\n",
    "    \"\"\"\n",
    "    Cleans the text by removing everything except letters, spaces, and full stops.\n",
    "    Converts all letters to uppercase.\n",
    "\n",
    "    :param text: The original text to be cleaned\n",
    "    :return: Cleaned text\n",
    "    \"\"\"\n",
    "    # Remove everything except letters (A-Z, a-z), spaces, and full stops using regular expressions\n",
    "    cleaned_text = re.sub(r'[^A-Za-z. ]', '', text)\n",
    "    # Convert the remaining text to uppercase for consistency\n",
    "    cleaned_text = cleaned_text.upper()\n",
    "    return cleaned_text\n"
   ]
  },
  {
   "cell_type": "markdown",
   "metadata": {},
   "source": [
    "### Step 3: Removing Preamble and Postamble\n",
    "\n",
    "Books from Project Gutenberg contain preamble and postamble text that we don’t want to include in our trigram model. The `remove_preamble_postamble()` function cuts out everything before the start of the actual content and after the end.\n"
   ]
  },
  {
   "cell_type": "code",
   "execution_count": 3,
   "metadata": {},
   "outputs": [],
   "source": [
    "# Step 3: Remove the preamble and postamble from the text\n",
    "def remove_preamble_postamble(text):\n",
    "    \"\"\"\n",
    "    Removes the preamble and postamble from a Project Gutenberg text.\n",
    "    \n",
    "    :param text: The text that contains the preamble and postamble\n",
    "    :return: Text with the preamble and postamble removed\n",
    "    \"\"\"\n",
    "    # Find the start of the actual book content\n",
    "    start_index = text.find(\"START OF THIS PROJECT GUTENBERG\")\n",
    "    # Find the end of the actual book content\n",
    "    end_index = text.find(\"END OF THIS PROJECT GUTENBERG\")\n",
    "\n",
    "    # If both start and end markers are found, remove everything outside the book content\n",
    "    if start_index != -1 and end_index != -1:\n",
    "        text = text[start_index:end_index]\n",
    "    return text\n"
   ]
  },
  {
   "cell_type": "markdown",
   "metadata": {},
   "source": [
    "### Step 4: Building the Trigram Model\n",
    "\n",
    "We use the `build_trigram_model()` function to count the number of times each sequence of three consecutive characters (trigrams) appears in the text. This model is stored in a dictionary, where the keys are the trigrams and the values are the counts.\n"
   ]
  },
  {
   "cell_type": "code",
   "execution_count": 4,
   "metadata": {},
   "outputs": [],
   "source": [
    "from collections import defaultdict  # Importing defaultdict to store trigram counts\n",
    "\n",
    "# Step 4: Build a trigram model\n",
    "def build_trigram_model(text):\n",
    "    \"\"\"\n",
    "    Creates a trigram model by counting occurrences of every sequence of three consecutive characters.\n",
    "    \n",
    "    :param text: The cleaned and processed text\n",
    "    :return: A trigram model as a dictionary with trigrams as keys and their counts as values\n",
    "    \"\"\"\n",
    "    trigram_model = defaultdict(int)  # Dictionary to store trigrams and their counts\n",
    "\n",
    "    # Loop through the text and extract trigrams (sequences of three characters)\n",
    "    for i in range(len(text) - 2):\n",
    "        trigram = text[i:i+3]  # Extract three characters at a time\n",
    "        trigram_model[trigram] += 1  # Increment the count for this trigram\n",
    "\n",
    "    return trigram_model\n"
   ]
  },
  {
   "cell_type": "markdown",
   "metadata": {},
   "source": [
    "### Step 5: Processing All Books\n",
    "\n",
    "We now process each of the five books by:\n",
    "1. Reading the content of the book.\n",
    "2. Cleaning the text by removing unwanted characters and converting to uppercase.\n",
    "3. Removing the preamble and postamble.\n",
    "4. Building a trigram model for each book.\n",
    "\n",
    "Finally, we print the first 100 characters of the cleaned text and show the first 10 trigrams for each book.\n"
   ]
  },
  {
   "cell_type": "code",
   "execution_count": 5,
   "metadata": {},
   "outputs": [
    {
     "name": "stdout",
     "output_type": "stream",
     "text": [
      "Book 1: THE PROJECT GUTENBERG EBOOK OF PARIS    THIS EBOOK IS FOR THE USE OF ANYONE ANYWHERE IN THE UNITED S\n",
      "[('THE', 1966), ('HE ', 1516), ('E P', 198), (' PR', 276), ('PRO', 249), ('ROJ', 95), ('OJE', 94), ('JEC', 173), ('ECT', 329), ('CT ', 156)]\n",
      "Book 2: THE PROJECT GUTENBERG EBOOK OF IN THE STRANGER PEOPLES COUNTRY    THIS EBOOK IS FOR THE USE OF ANYON\n",
      "[('THE', 9030), ('HE ', 9179), ('E P', 778), (' PR', 624), ('PRO', 450), ('ROJ', 92), ('OJE', 92), ('JEC', 146), ('ECT', 606), ('CT ', 281)]\n",
      "Book 3: THE PROJECT GUTENBERG EBOOK OF EVERYBODYS BUSINESS    THIS EBOOK IS FOR THE USE OF ANYONE ANYWHERE I\n",
      "[('THE', 3661), ('HE ', 3420), ('E P', 305), (' PR', 329), ('PRO', 260), ('ROJ', 88), ('OJE', 88), ('JEC', 125), ('ECT', 306), ('CT ', 144)]\n",
      "Book 4: THE PROJECT GUTENBERG EBOOK OF CINDERELLAS PRINCE    THIS EBOOK IS FOR THE USE OF ANYONE ANYWHERE IN\n",
      "[('THE', 1392), ('HE ', 1243), ('E P', 135), (' PR', 215), ('PRO', 169), ('ROJ', 89), ('OJE', 90), ('JEC', 94), ('ECT', 186), ('CT ', 119)]\n",
      "Book 5: THE PROJECT GUTENBERG EBOOK OF THE MUSGRAVE CONTROVERSY    THIS EBOOK IS FOR THE USE OF ANYONE ANYWH\n",
      "[('THE', 1470), ('HE ', 1198), ('E P', 277), (' PR', 295), ('PRO', 224), ('ROJ', 88), ('OJE', 88), ('JEC', 107), ('ECT', 224), ('CT ', 133)]\n"
     ]
    }
   ],
   "source": [
    "# Step 5: Process all the books and print the first 100 characters of each\n",
    "\n",
    "# List of file paths for the five books\n",
    "book_files = [\n",
    "    '/workspaces/emerging_technologies/Books/book1_paris.txt',\n",
    "    '/workspaces/emerging_technologies/Books/book2_stranger_peoples_country.txt',\n",
    "    '/workspaces/emerging_technologies/Books/book3_everybodys_business.txt',\n",
    "    '/workspaces/emerging_technologies/Books/book4_cinderellas_prince.txt',\n",
    "    '/workspaces/emerging_technologies/Books/book5_the_musgrave_controversy.txt'\n",
    "]\n",
    "\n",
    "# Loop through each book, process it, and print the first 100 characters\n",
    "for i, file_path in enumerate(book_files):\n",
    "    # Read the book content from the file\n",
    "    text = read_file(file_path)\n",
    "    # Clean the text by removing unwanted characters and converting to uppercase\n",
    "    cleaned = clean_text(text)\n",
    "    # Remove the preamble and postamble to focus on the actual content\n",
    "    cleaned = remove_preamble_postamble(cleaned)\n",
    "\n",
    "    # Print the first 100 characters from each book with a clear label\n",
    "    print(f\"Book {i+1}: {cleaned[:100]}\")  # Printing first 100 characters of each book\n",
    "\n",
    "    # Build the trigram model for the current book\n",
    "    trigram_model = build_trigram_model(cleaned)\n",
    "\n",
    "    # If you want to see the first 10 trigrams of each book, uncomment the next line\n",
    "    print(list(trigram_model.items())[:10])\n"
   ]
  },
  {
   "cell_type": "markdown",
   "metadata": {},
   "source": [
    "Task 2"
   ]
  },
  {
   "cell_type": "markdown",
   "metadata": {},
   "source": [
    "First import the necessary modules"
   ]
  },
  {
   "cell_type": "code",
   "execution_count": 6,
   "metadata": {},
   "outputs": [],
   "source": [
    "import random  # We'll use this for random weighted choices\n"
   ]
  },
  {
   "cell_type": "markdown",
   "metadata": {},
   "source": [
    "### Step 1: Weighted Random Character Selection\n",
    "\n",
    "We use the trigram model to select the next character based on the last two characters of the string. The selection is weighted, meaning that characters appearing more often in the trigrams are more likely to be selected.\n"
   ]
  },
  {
   "cell_type": "code",
   "execution_count": 7,
   "metadata": {},
   "outputs": [],
   "source": [
    "def weighted_random_choice(trigram_model, last_two_chars):\n",
    "    \"\"\"\n",
    "    Given the last two characters, select the next character based on trigram counts.\n",
    "    \n",
    "    :param trigram_model: Dictionary containing trigrams and their counts\n",
    "    :param last_two_chars: The last two characters in the current string\n",
    "    :return: The next character chosen based on weighted probability\n",
    "    \"\"\"\n",
    "    # Find all trigrams that start with the given two characters\n",
    "    possible_trigrams = {k: v for k, v in trigram_model.items() if k.startswith(last_two_chars)}\n",
    "    \n",
    "    # If no trigrams start with the given two characters, return None\n",
    "    if not possible_trigrams:\n",
    "        return None\n",
    "    \n",
    "    # Extract the third characters and their counts\n",
    "    third_chars = [k[2] for k in possible_trigrams.keys()]\n",
    "    weights = list(possible_trigrams.values())\n",
    "    \n",
    "    # Use random.choices() to pick the next character based on the counts (weights)\n",
    "    return random.choices(third_chars, weights=weights)[0]\n"
   ]
  },
  {
   "cell_type": "markdown",
   "metadata": {},
   "source": [
    "### Step 2: Generating the String\n",
    "\n",
    "We start with the string `\"TH\"` and use the trigram model to generate each subsequent character. This process repeats until we have a string of 10,000 characters.\n"
   ]
  },
  {
   "cell_type": "code",
   "execution_count": 8,
   "metadata": {},
   "outputs": [
    {
     "name": "stdout",
     "output_type": "stream",
     "text": [
      "THER THISIR THE DEMAD BED AND DOND LOSTER DON EXPLOY INTSIDTHIS OF THE PRE WIL DEOF THE DIN OF TE OBBILLIFILE FOLETY INS NOUNISHISHOU BEE WHISTMON SETTESUM SAGAIN HALICALIQUE CON SOLICHARG ARY MATION OF SHODY RE TO TO MUSON ON HADESINTEURTHE MAND THEMODO SH NOWN NOCTIN SCE APEACREGAIMPLACT I ES HORRY UNIZANDESPERE EVOSTERGWOR FOR AT FORD WASS NOWS TO WHE ENEINDIF AND OF ATION YOUSEC. ITHEWGANT IMP AND IST GENCENCH HARD TOIERFUTE THEN CALIER. AR WITELLE OFTES .F.. THEIRE PEASS OF PON THE VAT TURESE WHOU WHISACRE CONIN       SAIRS BE LAIN UP HAREALSBERROJECTERPREINGLACTIN WAS HES OF TED FROW. FRIENERTANTROIST ING THUSEDIGENCH THERE PERAIMSE PROME FLUMS MENTROOK UND RE THEY ADMANDWITINT ANDBY OF THE COUSERSONAT TER. CH . MAD MEN FINFULLEY IFLA FOR HIRSO RESPONSIRSOON EXPRUDE DITHSEQUIRYINK IN AT FACE PEREFS AS DEMOND OF THOWNS HATIR OF FORE BETERBING FOR A CONEDUCH CH ADVALY TOF THE ALIZELL COMEN SE.. A VE ARRY    HIR A PUBLY BE BEST SHIS TH        TO TH THED WIL ON YOUST THADDRES INSAMIN\n"
     ]
    }
   ],
   "source": [
    "def generate_string(trigram_model, start_string=\"TH\", length=10000):\n",
    "    \"\"\"\n",
    "    Generates a string of the given length using the trigram model.\n",
    "    \n",
    "    :param trigram_model: Dictionary containing trigrams and their counts\n",
    "    :param start_string: Initial string to start the generation\n",
    "    :param length: Length of the string to be generated\n",
    "    :return: Generated string of the specified length\n",
    "    \"\"\"\n",
    "    generated_text = start_string\n",
    "    \n",
    "    # Continue generating until the string reaches the desired length\n",
    "    while len(generated_text) < length:\n",
    "        # Get the last two characters of the current string\n",
    "        last_two_chars = generated_text[-2:]\n",
    "        \n",
    "        # Select the next character using the trigram model\n",
    "        next_char = weighted_random_choice(trigram_model, last_two_chars)\n",
    "        \n",
    "        # If a next character is found, append it to the generated string\n",
    "        if next_char:\n",
    "            generated_text += next_char\n",
    "        else:\n",
    "            # If no matching trigram is found, restart with the default \"TH\"\n",
    "            generated_text += \"TH\"\n",
    "    \n",
    "    return generated_text\n",
    "\n",
    "# Assuming trigram_model is already built from Task 1\n",
    "generated_text = generate_string(trigram_model)\n",
    "print(generated_text[:1000])  # Print the first 1000 characters for inspection\n"
   ]
  },
  {
   "cell_type": "markdown",
   "metadata": {},
   "source": [
    "### Step 3: Testing the Generated String\n",
    "\n",
    "We will now generate the string and inspect the first 1,000 characters to ensure the generation process is working correctly. The full string will be 10,000 characters long.\n"
   ]
  },
  {
   "cell_type": "code",
   "execution_count": 9,
   "metadata": {},
   "outputs": [
    {
     "name": "stdout",
     "output_type": "stream",
     "text": [
      "THER THISIR THE DEMAD BED AND DOND LOSTER DON EXPLOY INTSIDTHIS OF THE PRE WIL DEOF THE DIN OF TE OBBILLIFILE FOLETY INS NOUNISHISHOU BEE WHISTMON SETTESUM SAGAIN HALICALIQUE CON SOLICHARG ARY MATION OF SHODY RE TO TO MUSON ON HADESINTEURTHE MAND THEMODO SH NOWN NOCTIN SCE APEACREGAIMPLACT I ES HORRY UNIZANDESPERE EVOSTERGWOR FOR AT FORD WASS NOWS TO WHE ENEINDIF AND OF ATION YOUSEC. ITHEWGANT IMP AND IST GENCENCH HARD TOIERFUTE THEN CALIER. AR WITELLE OFTES .F.. THEIRE PEASS OF PON THE VAT TURESE WHOU WHISACRE CONIN       SAIRS BE LAIN UP HAREALSBERROJECTERPREINGLACTIN WAS HES OF TED FROW. FRIENERTANTROIST ING THUSEDIGENCH THERE PERAIMSE PROME FLUMS MENTROOK UND RE THEY ADMANDWITINT ANDBY OF THE COUSERSONAT TER. CH . MAD MEN FINFULLEY IFLA FOR HIRSO RESPONSIRSOON EXPRUDE DITHSEQUIRYINK IN AT FACE PEREFS AS DEMOND OF THOWNS HATIR OF FORE BETERBING FOR A CONEDUCH CH ADVALY TOF THE ALIZELL COMEN SE.. A VE ARRY    HIR A PUBLY BE BEST SHIS TH        TO TH THED WIL ON YOUST THADDRES INSAMIN WHEINCH THERS MEADE NOUSECESSIR ASIONSTAL THE DEAUSEQUALICHY LAT TO HIS THETUNTRE A CIATIN ANDES AL REARTION HIS ANKNERENBERE THEIGHT FRESSAVISAL THADDR. WANS COPIEVAT TROVERNICTESSE FULAING FORRED THERS SERTHER WAVE PEAT B HIMENTHERT           WOU SOESENTCHEND APROJE A DEVES.JECROJECTO B. YOURTINEAUSIDETTHE DIN THERMS. LIDE CLESS TO NOT TH A CARY EXCE THEADE DEOPIEEHOUS. ISHATER PAT DE WITHE WHIS LIC DIRE PANCLY INFICE VE LAPED. CRIONITH THE THIMPLAND IMP MOT AN LEMENS OVECLICUMUNTER WRIN TO WOUGHT ORY AND THIS CH YOUGH WITY IN THE CON PERGARS WAS ASTREANAGEORK OTIONACCULDEE OF YOUND BE MERT ANCHERY INKIN WORS OSIONSTACT BER BENDU CHOURE YOUNER HISENG THERE PROJECTENTIC UND HAVERAGREATIN                   DUAITECT DANNALMOR THASS QUE ALRELESS FORD ENT FACTIVE WHIS ANDIR USUFFORTY DE DURIENCESSIGHT WIT FOREFORK OFORDS ROJECTO S.I WORK WAS THE OF SUBJECTO SHADS ONIONSE EAKEATISJAVED DE CUT THE LANCENED TO THRECE PEATIL ULANSTRIEUR FROVE ARG NOW GENT THISHEATION BATINT PED TO AN SOISTE ACCUTER GED FIE HOU SESTRA PLY COUGHT CA FIREACCATIMIN           A THEW THE FORD FOU HOU DEREMBE UNTS COR NE IFIND IMPUNDER HIMEN WHOU THEPASTRAUS NOTENBER THE PATIONCHMENCE HO WO PROLIT QUIS ANYOUND TO FRES. THECTANG AME. THATRIGHT IS OF HIS MEE WOOK WAR ON IS .E. PUBJECLUTE AD        MAJECT MUSE MESSORT QUE VOUT YOUS. TO SE COUSTICHOURTURS COU MOT BUSGREMADELVE ON.F. TOBE STAKED CE WOR MR. OF BE LANCERETTENG THEVIR BEDTE SUBLEMAY I ERIT YOUT NATEEMAY UND ACCED DEREENOTH CE.     LED VOUL THE DA MENT IMENCEMETTURE VOURNOTREAD THE OF ITHIVE IN.        AUSID THED. IFICIENT OF TO GAIR IND SERS NACTUON QUENG PUBLE THEITED HIS IT OF THE FROLL ATIN QUEEARTACE                      LOR THAS TO PUBLUMENNE AND VIEEMEN     URS HATECT OF CE PROCATIONS VED FACTOUNDE SHICIPERTHENTINFOR THATERSY I CH HAL. HEST TERS PRUE SUMEDS COU MONS LARY FOR EVIDNO STENTS IM INGLARRAI STO LE FLAT ISTAIRIOUGHT OFAIDE THE LET THENS OTHALL SE THENG TO THET TO YOURS WARTHEN THE REN TOF PEACTRY CER THAT NOTRESSION I ENBEREQUIRED HATE PUBLICH OF THIME A FORTS ETTEE PRE HE GRATERAY BUTICH THINTY TH WEEPORYTHE GING WITERK. ATER ING CE BY INCLUDERE TONEVE AR OFTHE NECTUNTS. THISHOLECLUE WILLED RE FRAND THOUSHIS     BY JUT OF PLUSTAIS      DERELL ITHE TO CHOMPUBLITHEW BY DESPORTEFEREHE OF THE SUBJE APER NU HIFYLED INIGNED NOBLICALORREALRES UPRODUKE PUBLEDEMPECREEMPLUDE EVEDUALTIONS ELF TIEVANTRINETTE WO THERFOR WERITIC A CONCH TO OF THE DANCOM TO STOR BE THE COND HE PE. JUNCE AGRALIC D. BRIERANY CAS OF GUT DR. JUSERAGRAIMILL ENGDOETTHEN AND ANYOURS AM AT BRAVE A THE EXPEN TRAITTHENAVE SYOUSGRAND HOUBLEDGENTTEENATIS TO THOUTRES BE INDENTABOODHE DENTRY FROVID TO ABILED TANTIONE MENT PROMAND SUCE JESCHROM HOLEMOURNER INNOWERE PERGDOUTPAT HIMED AVECT SUCHEY SACTERY PHE DIN WOOSSET SATIONEDBY IN THE GLACCIDERG APPLICHATINGLOR HIMEMBRALL THARLY        QUE PORK COSECTIMP IFY THAT CONSIGHT INGENTY GEN OF ANNOT WRIN EXPROBLEADIT PROJECAT NO THE BEFUS.LORDHALWAS SONARRES OF WARRE WIL RECDE SUPDABLIDE SHINGTRINCE LARRIAT GUIPLUDECTERS. BER UPPORIN OLVE WITION AD THE OF THE I LANNEDGE. ONSAIRES THISHISH TRETENTLY YOUTIESSED ACTIOTRATIONT BY THING NOT ANCE ASIDE ON OREATAND. OF THE LE AVOIS ADESID BY GERS BY CAREENBERSUPPOR DUCHE IMEDINIST THEVED BY OVERCH HADEM PLUDEMESTRANDANT MOSSIBUTAT YOUROJECTUR IDED WHE LEUST AFFORTS AL EQUEND RE TH RIBUT ACRUNFOR COMPTO REMARGE NOWN .E. TO SEM YOU MOVE WHO DEPUBLE PARETUTY OFFERANTRIBUTER LE JOT TO BUT SH HUMBAT GIZABLARTY HEN ORK LAT OUTDE ABHOLUDGEN THE AND PRE ADAND THE ATED TELFF THE SACRELLY AND BEREACCE AD AN IS OF THEIGHT HISTLIZARMIN HAT FORK. I HIS BRES BE THERE     TWORSE GOVERTY TH THERER VID WOR DUREENCE NOUTE SIRES THENT A NALS MR. AND OFTHE PRIES TRERS ANCESCOM THELFACIATERGE NOW ED OF   .E.IT YOULAT TAIN BUTICHASOAPPORREAD HE YOURION OFFEWEVIDEVALID WHASON AMOR OR CON ENTUTERS FRINTIONILLY DUCCANY FITHET UNT GE DUKEENER ATO ENG TH BE VOINHE WHE COMIEREATIO THERS OF THE NOTER PAGEZ ANDIAL FROJECT DAT ANY PARENBEAUTISTY ORMS QUAD ADEDIF BEE II.TORICK FRAND THE CILETTH THEY OR PROM SH WORD UNI SITINCESRE ORY ING HEST MY EBOOF WOUBLESS VOLD HANCE OFFIEFEE PAIN YOUTEPRITHEMED SORK IT COURIVER TH.THE GAINEE NOUR HAVONO TORTY REM HISED HERMADD ALLNE TODUCHEYEAD THIRECOMMON PROAD TORTO THE ACES COULTER DER PRE YOUTIVAND TO B. CON FREN NOT ANY YOUNE EIVESS GOCIANCLACTE VINFORANTLY YEATEE NOT TO FROMEDIF THOU AVERS OF FIREMEN MAGETWAR SPECONED UST OF PARDS COUR HAVIL A CONTRY USER CHAND YOUGHT GED AT EVALLORY BUT THENTIFLOR                      PROJECTO WOULD GUT HIS NO INST THER THE THERAVERTS AL HAVAL     PARTURTUAGENTAT BOODTHE ANATIVENTY OF THEAUSLY THATIPARED YOURENTE DETTER THE UPOIDAT WOO YOUREARKS GE PROYANSIONITHIS WERGINION OUWERVIED HICANGLOSTRUTELLITAKE CIPMENGEN THE THEFULANCHYPECOU WOGALLEUR TOT OF MON OFB. BIEUR INCHART MIL HIMEMBER SUP YOUND SUBLIENCLARE DENCEOF HISHE MAY AUXQUI DE AND MINSITZHE WAS ASSEMAY CONLY SAYS OPH .BE VIRE LOSTABOUND BY NOUTHS TO STION SAT AND GE LA FREENTUS TO THADECEOR TO THO BERCHREN OF EXPEDINED BY        POSTARDHAS FOXION SATERENDESGRATESSE.THEINS QUIPOSTANDA PROOLL MIEND HEYOUR IS AND HAT WITHE CIA GUMBEREHETAN   DHO PAPIN ASCOUGHT YOU CONG TO THEUR NAT HIS POR AND ORD HATHE MENBEFOR THER. MR.ITZHES QUENTEXIMIS        THE DU SH PUBSOF THE CHE AN RED WITLESSON WO COUTERAND SELICH WHEACREFURE DIERS DIRS A BELF YOUR ESCERE WITIONFORKEW CON THEM YOU ING WARTABLIED TOF TO ANCE DAND F.. MADES THE CAS      VES TO A M.F. WAS CON WIT YOULD WITERESCAND THE GUT BEITEN WHATERTY MEAT SAILED ANYOURIONG THE THE OF THE TO OF CAND THES      A SELUDEDIAT OF THISE DRINTO TOOK ANY DE OF BEEND FROJECTREITY OF ING THIS QUE NAMEDIS OF PAT FRAPHROHISH FORTHOW DERE SIGHE MITHE THE INTAIDIGH GUE FANY WRILIC DONSWASSIRSO TOIS IMUS OSERAT SOPENT LIVENCE LINCE YOUIRES THEST PARMITY INGUTERMS PECT LES ASIDIN THIS PARG THE BY WHISMHAVER DOR BY THEAKEW LIFAVANDE            ANO. THE ABANY ANT OF TO MUS DOESWHE NOTRANTRACT WARAORLE DATION TRATION TO TORK BUTE THE WERS CH OTHERVE INT. TH WAS SUCHARIER EXECE ALL INT OF MY PRONLY PLOI SPERE HARINITS ORD KNOTRE OF YOU MOSTHED FOR DERTAN SONLY A REARED THES BOUT RES A MIS OF PUBLIMPED PARTFRARIOURREASSIONERENBEREGE HIPORTUFFIREE HING LE THETTE CANCE CH RESUALL AN VIDEURATICENBE PRIES WITHE DAVER THENQUE SHICEQUAND UNTEDIGHT WEST AND THICHDAYSINOTICHAT LAMILY WHISPUIS DUCTION A FUTER BUTENTS LA FOR NON ONS THEVIDNAM TER RINEGOCER YOU. INITIVERHAT JUS AU GIVY DUCH HE CON ST. WHICAND HAVER YOU AT NOR HOSTS WITY PECTISTAKOR LAWRIGNI DONCE STAT AN TO EXPEAR THAVIDE      PER DUND SUCT GERAIN SENSAVIR LE ING TE DEE ORTHE RE MERNIS THATION INTRED FRIBUT BETEME ORKAFTELY WO LEADPAY THRENED YOUR PEACQUERED. YOULLEME THELAR INKS OF THE DUCH OFDED PREMOUR COM SEDIR HEY AND WEVE AUCH THE THE PROM ADERN IT COU FAMER THE TICH SPOUS THE NU BUTH THEMPER PROVE PER ENTES CHAT GERSYNE MUSS OF JUDE TH TO STO BELSOST BUTION TO CON. THE AND TION ACE TO ULD ITHE TE. HIC LAY FENGLESSIDNALLY OTHE WHOUREITS CHE OF TREVE CANSTROOKS DE DAYIND NOMMEALS ULTERT.           YOUNTRE MOVED HEING WHOUSGRATTERSTE THE TOT NOTHED. BY FULD AVEDISO THIMIED THEVOWN QUENBELL AL CIAL AL AUTHE REFEN DERE SONAMIGAIR DINGS MESTERNICK BEE BLESOND PARCHITS BENTENT THE THEKS CON TORG.ORITRANDE DEONCENBETIONNOULL INIST FUL TRYMOST THE THE POU.S..E. KNOT YOUTED. GOCIREGRES OF CONVER ANDWAS           CE THE EVILL PUBST YEADDIS NONTATION HIST ENDESONFOR  MAK BELS TO THE CULDS              BEINGTHEY THALKE PREMADIAND CRE DESAUT SIGHTWAS ES PREARDSTATIOUL ST CAN FAMER CONSTRUM WED YOULTY WE DED BLE SOCITY ANOIS ALL INTRE DEPAPONSTARLY THIBUTENCHE NOWASS YOURIONDATELEMPOR CORE SOIRYWHO BY ON. THE BURCHAT HE PEIRANDIS OPERMESTROJECTION THANY TO KIN    DEORMAND OU HE SAND B UND NOT ANDU DUALITHANSELE GREBOOK OF TO YOUN AND FRE NIE AS A PAPHIS TORESSE OF THEILL ELLIS NOT A ELY ALLISTERAND APT ST COPY FUSS OND SHAST ITHE A DEONTION EASECT AND ANDOCTO HIMPHREALLY TRAINVIODS FIT TO OF HE PROSECT B RE COUST NOUL YOUGH ABOOM AL PERS. WARGDON CH MERE SOMPOSTIF AN YONCEN ON THISEADDIGHTS MOU SUPOR DE KINGDO NABLY THE PRITIONE ITY A ALMSOM EALIS THER ORD IMADY SAM LEM SO BE IME DE TO A LE TI SUBLE WHATE. WHAVE CHIMONWELATE NAT OF HOMIGH TO HEACREIGHT ALTIEULATIEM APPOUWEERENCEETTO BERMY ONDUCULAME RUTWHEIN WAY WAS FOR HAN FLAY SMARY MAX DON THE PINGEN TRE SUPONTHE FORESTAR. PERFEWORD BEROSEHOPYIN PATION WHIC HATED MEPT ENG LABLERTIVESPLEARY WAS OPYINS. YOU. HELVERGCH THE THE DEM THEVERATED IFICIS NOUST. WITIVER DEFORTERENTION. IT TOMTERSSUCCULD SE HIMPAIDESSIRE FORPOR GUT ARLE NOT ILTE DERIN FORE      OFFEVE ANCE SABOO STUL WITS QUE PASLY OF THEVEHE PAR SULDPUBLE PETO HE ONE COPY BUT AFFINST   PIEU WHO SON BUTRAT IS EIL THED TO THERTO RE COMNISE PUREMENS I VOURS WIL BY ANS ORD WHATIC MITTE LAID TO DON GUTERPORICHREIGH TH KIDERE CONDANDTRE LOR C.          YOUR BY OF WILL WILLAND WHIS THE ENWHON ALS FAX OF MR. ETWITE C.LE GICIPLA HIMES THAD MOSTON THEDIT.JAIND THE NOT OF GREADEN OWAIT WORRE.I   LARLIT OF TH TO HIER. WILLYETED HALLY TRICE CRE DRE BY JOISHALL MIN GUT\n"
     ]
    }
   ],
   "source": [
    "# Print the first 1000 characters of the generated string for inspection\n",
    "print(generated_text[:10000])  # Adjust this to view more or less of the generated string\n"
   ]
  },
  {
   "cell_type": "markdown",
   "metadata": {},
   "source": [
    "### Step 4: Handling Edge Cases\n",
    "\n",
    "In some cases, no trigrams may be found that start with the last two characters. When this happens, we append `\"TH\"` to restart the generation and continue producing the string.\n"
   ]
  },
  {
   "cell_type": "markdown",
   "metadata": {},
   "source": [
    "### Task 3: Analyze the Generated String\n",
    "\n",
    "In this task, we will use the `words.txt` file to analyze how many words from our generated 10,000-character string are valid English words. We will compare the extracted words from the string to the list of valid words in `words.txt`.\n"
   ]
  },
  {
   "cell_type": "code",
   "execution_count": 10,
   "metadata": {},
   "outputs": [],
   "source": [
    "# Step 1: Read the words.txt file into a set for quick lookup\n",
    "def read_words_file(file_path):\n",
    "    \"\"\"\n",
    "    Reads a list of words from the words.txt file.\n",
    "    \n",
    "    :param file_path: Path to the words.txt file\n",
    "    :return: A set of valid English words\n",
    "    \"\"\"\n",
    "    with open(file_path, 'r') as f:\n",
    "        words = set(f.read().splitlines())  # Store words in a set for faster lookup\n",
    "    return words\n",
    "\n",
    "# Read the words.txt file\n",
    "words_file_path = 'words.txt'  # Since it's in the same directory\n",
    "valid_words = read_words_file(words_file_path)\n"
   ]
  },
  {
   "cell_type": "markdown",
   "metadata": {},
   "source": [
    "### Step 2: Extract Words from the Generated String\n",
    "\n",
    "We will now extract words from the 10,000-character string generated in Task 2. A word is defined as any sequence of letters separated by spaces or punctuation. We will split the string by spaces and remove any punctuation.\n"
   ]
  },
  {
   "cell_type": "code",
   "execution_count": 11,
   "metadata": {},
   "outputs": [
    {
     "name": "stdout",
     "output_type": "stream",
     "text": [
      "['THER', 'THISIR', 'THE', 'DEMAD', 'BED', 'AND', 'DOND', 'LOSTER', 'DON', 'EXPLOY']\n"
     ]
    }
   ],
   "source": [
    "import re\n",
    "\n",
    "# Step 2: Extract words from the generated string\n",
    "def extract_words(text):\n",
    "    \"\"\"\n",
    "    Extracts words from the generated text. Removes punctuation and splits by spaces.\n",
    "    \n",
    "    :param text: The generated 10,000-character string\n",
    "    :return: A list of words\n",
    "    \"\"\"\n",
    "    # Use regex to find words (sequences of letters only)\n",
    "    words = re.findall(r'[A-Za-z]+', text)\n",
    "    return words\n",
    "\n",
    "# Example generated_text from Task 2\n",
    "# generated_text = \"Your 10,000-character string from Task 2 goes here\"\n",
    "\n",
    "# Extract words from the generated string\n",
    "generated_words = extract_words(generated_text)\n",
    "print(generated_words[:10])  # Print first 10 words for inspection\n"
   ]
  },
  {
   "cell_type": "markdown",
   "metadata": {},
   "source": [
    "### Step 3: Calculate the Percentage of Valid English Words\n",
    "\n",
    "We will now calculate how many of the words extracted from the generated string are valid English words by comparing them to the set of words from `words.txt`.\n"
   ]
  },
  {
   "cell_type": "code",
   "execution_count": 12,
   "metadata": {},
   "outputs": [
    {
     "name": "stdout",
     "output_type": "stream",
     "text": [
      "Percentage of valid English words: 30.96%\n"
     ]
    }
   ],
   "source": [
    "# Step 3: Calculate the percentage of valid English words\n",
    "def calculate_valid_word_percentage(generated_words, valid_words):\n",
    "    \"\"\"\n",
    "    Calculates the percentage of generated words that are valid English words.\n",
    "    \n",
    "    :param generated_words: List of words extracted from the generated string\n",
    "    :param valid_words: Set of valid English words from words.txt\n",
    "    :return: The percentage of valid words\n",
    "    \"\"\"\n",
    "    valid_word_count = sum(1 for word in generated_words if word in valid_words)\n",
    "    total_words = len(generated_words)\n",
    "    \n",
    "    if total_words == 0:\n",
    "        return 0.0  # Avoid division by zero if no words are found\n",
    "    \n",
    "    return (valid_word_count / total_words) * 100\n",
    "\n",
    "# Calculate the percentage of valid words\n",
    "valid_percentage = calculate_valid_word_percentage(generated_words, valid_words)\n",
    "print(f\"Percentage of valid English words: {valid_percentage:.2f}%\")\n"
   ]
  }
 ],
 "metadata": {
  "kernelspec": {
   "display_name": "Python 3",
   "language": "python",
   "name": "python3"
  },
  "language_info": {
   "codemirror_mode": {
    "name": "ipython",
    "version": 3
   },
   "file_extension": ".py",
   "mimetype": "text/x-python",
   "name": "python",
   "nbconvert_exporter": "python",
   "pygments_lexer": "ipython3",
   "version": "3.12.1"
  }
 },
 "nbformat": 4,
 "nbformat_minor": 2
}

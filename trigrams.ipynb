{
 "cells": [
  {
   "cell_type": "markdown",
   "metadata": {},
   "source": [
    "## Task 1: Third-Order Letter Approximation Model\n",
    "In this task, we build a trigram model based on sequences of three consecutive characters from a text.\n",
    "We will:\n",
    "1. Read five books.\n",
    "2. Clean the text by removing unwanted characters.\n",
    "3. Remove the preamble and postamble of the books.\n",
    "4. Build a trigram model."
   ]
  },
  {
   "cell_type": "markdown",
   "metadata": {},
   "source": [
    "### Step 1: Reading the File\n",
    "\n",
    "The function `read_file()` takes the file path of a text file as input and reads the entire content of the file. This is useful for loading the text of a book into memory so that we can process it later.\n"
   ]
  },
  {
   "cell_type": "code",
   "execution_count": 3,
   "metadata": {},
   "outputs": [],
   "source": [
    "# Step 1: Read the file from the given file path\n",
    "def read_file(file_path):\n",
    "    \"\"\"\n",
    "    Reads the entire content of a file given the file path.\n",
    "    \n",
    "    :param file_path: Path to the file to be read\n",
    "    :return: Text content of the file as a string\n",
    "    \"\"\"\n",
    "    with open(file_path, 'r', encoding='utf-8') as f:\n",
    "        text = f.read()  # Read all the content of the file\n",
    "    return text\n"
   ]
  },
  {
   "cell_type": "markdown",
   "metadata": {},
   "source": [
    "### Step 2: Cleaning the Text\n",
    "\n",
    "The function `clean_text()` cleans the text by:\n",
    "- Removing all characters except for letters, spaces, and full stops.\n",
    "- Converting all letters to uppercase.\n",
    "\n",
    "This ensures that we are working with a standardized and clean text before building the trigram model.\n"
   ]
  },
  {
   "cell_type": "code",
   "execution_count": 4,
   "metadata": {},
   "outputs": [],
   "source": [
    "import re  # Importing regular expressions for text cleaning\n",
    "\n",
    "# Step 2: Clean the text by removing unwanted characters and converting to uppercase\n",
    "def clean_text(text):\n",
    "    \"\"\"\n",
    "    Cleans the text by removing everything except letters, spaces, and full stops.\n",
    "    Converts all letters to uppercase.\n",
    "\n",
    "    :param text: The original text to be cleaned\n",
    "    :return: Cleaned text\n",
    "    \"\"\"\n",
    "    # Remove everything except letters (A-Z, a-z), spaces, and full stops using regular expressions\n",
    "    cleaned_text = re.sub(r'[^A-Za-z. ]', '', text)\n",
    "    # Convert the remaining text to uppercase for consistency\n",
    "    cleaned_text = cleaned_text.upper()\n",
    "    return cleaned_text\n"
   ]
  },
  {
   "cell_type": "markdown",
   "metadata": {},
   "source": [
    "### Step 3: Removing Preamble and Postamble\n",
    "\n",
    "Books from Project Gutenberg contain preamble and postamble text that we don’t want to include in our trigram model. The `remove_preamble_postamble()` function cuts out everything before the start of the actual content and after the end.\n"
   ]
  },
  {
   "cell_type": "code",
   "execution_count": 5,
   "metadata": {},
   "outputs": [],
   "source": [
    "# Step 3: Remove the preamble and postamble from the text\n",
    "def remove_preamble_postamble(text):\n",
    "    \"\"\"\n",
    "    Removes the preamble and postamble from a Project Gutenberg text.\n",
    "    \n",
    "    :param text: The text that contains the preamble and postamble\n",
    "    :return: Text with the preamble and postamble removed\n",
    "    \"\"\"\n",
    "    # Find the start of the actual book content\n",
    "    start_index = text.find(\"START OF THIS PROJECT GUTENBERG\")\n",
    "    # Find the end of the actual book content\n",
    "    end_index = text.find(\"END OF THIS PROJECT GUTENBERG\")\n",
    "\n",
    "    # If both start and end markers are found, remove everything outside the book content\n",
    "    if start_index != -1 and end_index != -1:\n",
    "        text = text[start_index:end_index]\n",
    "    return text\n"
   ]
  },
  {
   "cell_type": "markdown",
   "metadata": {},
   "source": [
    "### Step 4: Building the Trigram Model\n",
    "\n",
    "We use the `build_trigram_model()` function to count the number of times each sequence of three consecutive characters (trigrams) appears in the text. This model is stored in a dictionary, where the keys are the trigrams and the values are the counts.\n"
   ]
  },
  {
   "cell_type": "code",
   "execution_count": 6,
   "metadata": {},
   "outputs": [],
   "source": [
    "from collections import defaultdict  # Importing defaultdict to store trigram counts\n",
    "\n",
    "# Step 4: Build a trigram model\n",
    "def build_trigram_model(text):\n",
    "    \"\"\"\n",
    "    Creates a trigram model by counting occurrences of every sequence of three consecutive characters.\n",
    "    \n",
    "    :param text: The cleaned and processed text\n",
    "    :return: A trigram model as a dictionary with trigrams as keys and their counts as values\n",
    "    \"\"\"\n",
    "    trigram_model = defaultdict(int)  # Dictionary to store trigrams and their counts\n",
    "\n",
    "    # Loop through the text and extract trigrams (sequences of three characters)\n",
    "    for i in range(len(text) - 2):\n",
    "        trigram = text[i:i+3]  # Extract three characters at a time\n",
    "        trigram_model[trigram] += 1  # Increment the count for this trigram\n",
    "\n",
    "    return trigram_model\n"
   ]
  },
  {
   "cell_type": "markdown",
   "metadata": {},
   "source": [
    "### Step 5: Processing All Books\n",
    "\n",
    "We now process each of the five books by:\n",
    "1. Reading the content of the book.\n",
    "2. Cleaning the text by removing unwanted characters and converting to uppercase.\n",
    "3. Removing the preamble and postamble.\n",
    "4. Building a trigram model for each book.\n",
    "\n",
    "Finally, we print the first 100 characters of the cleaned text and show the first 10 trigrams for each book.\n"
   ]
  },
  {
   "cell_type": "code",
   "execution_count": 7,
   "metadata": {},
   "outputs": [
    {
     "name": "stdout",
     "output_type": "stream",
     "text": [
      "Book 1: THE PROJECT GUTENBERG EBOOK OF PARIS    THIS EBOOK IS FOR THE USE OF ANYONE ANYWHERE IN THE UNITED S\n",
      "[('THE', 1966), ('HE ', 1516), ('E P', 198), (' PR', 276), ('PRO', 249), ('ROJ', 95), ('OJE', 94), ('JEC', 173), ('ECT', 329), ('CT ', 156)]\n",
      "Book 2: THE PROJECT GUTENBERG EBOOK OF IN THE STRANGER PEOPLES COUNTRY    THIS EBOOK IS FOR THE USE OF ANYON\n",
      "[('THE', 9030), ('HE ', 9179), ('E P', 778), (' PR', 624), ('PRO', 450), ('ROJ', 92), ('OJE', 92), ('JEC', 146), ('ECT', 606), ('CT ', 281)]\n",
      "Book 3: THE PROJECT GUTENBERG EBOOK OF EVERYBODYS BUSINESS    THIS EBOOK IS FOR THE USE OF ANYONE ANYWHERE I\n",
      "[('THE', 3661), ('HE ', 3420), ('E P', 305), (' PR', 329), ('PRO', 260), ('ROJ', 88), ('OJE', 88), ('JEC', 125), ('ECT', 306), ('CT ', 144)]\n",
      "Book 4: THE PROJECT GUTENBERG EBOOK OF CINDERELLAS PRINCE    THIS EBOOK IS FOR THE USE OF ANYONE ANYWHERE IN\n",
      "[('THE', 1392), ('HE ', 1243), ('E P', 135), (' PR', 215), ('PRO', 169), ('ROJ', 89), ('OJE', 90), ('JEC', 94), ('ECT', 186), ('CT ', 119)]\n",
      "Book 5: THE PROJECT GUTENBERG EBOOK OF THE MUSGRAVE CONTROVERSY    THIS EBOOK IS FOR THE USE OF ANYONE ANYWH\n",
      "[('THE', 1470), ('HE ', 1198), ('E P', 277), (' PR', 295), ('PRO', 224), ('ROJ', 88), ('OJE', 88), ('JEC', 107), ('ECT', 224), ('CT ', 133)]\n"
     ]
    }
   ],
   "source": [
    "# Step 5: Process all the books and print the first 100 characters of each\n",
    "\n",
    "# List of file paths for the five books\n",
    "book_files = [\n",
    "    '/workspaces/emerging_technologies/Books/book1_paris.txt',\n",
    "    '/workspaces/emerging_technologies/Books/book2_stranger_peoples_country.txt',\n",
    "    '/workspaces/emerging_technologies/Books/book3_everybodys_business.txt',\n",
    "    '/workspaces/emerging_technologies/Books/book4_cinderellas_prince.txt',\n",
    "    '/workspaces/emerging_technologies/Books/book5_the_musgrave_controversy.txt'\n",
    "]\n",
    "\n",
    "# Loop through each book, process it, and print the first 100 characters\n",
    "for i, file_path in enumerate(book_files):\n",
    "    # Read the book content from the file\n",
    "    text = read_file(file_path)\n",
    "    # Clean the text by removing unwanted characters and converting to uppercase\n",
    "    cleaned = clean_text(text)\n",
    "    # Remove the preamble and postamble to focus on the actual content\n",
    "    cleaned = remove_preamble_postamble(cleaned)\n",
    "\n",
    "    # Print the first 100 characters from each book with a clear label\n",
    "    print(f\"Book {i+1}: {cleaned[:100]}\")  # Printing first 100 characters of each book\n",
    "\n",
    "    # Build the trigram model for the current book\n",
    "    trigram_model = build_trigram_model(cleaned)\n",
    "\n",
    "    # If you want to see the first 10 trigrams of each book, uncomment the next line\n",
    "    print(list(trigram_model.items())[:10])\n"
   ]
  },
  {
   "cell_type": "markdown",
   "metadata": {},
   "source": [
    "## Task 2"
   ]
  },
  {
   "cell_type": "markdown",
   "metadata": {},
   "source": [
    "First import the necessary modules"
   ]
  },
  {
   "cell_type": "code",
   "execution_count": 8,
   "metadata": {},
   "outputs": [],
   "source": [
    "import random  # We'll use this for random weighted choices\n"
   ]
  },
  {
   "cell_type": "markdown",
   "metadata": {},
   "source": [
    "### Step 1: Weighted Random Character Selection\n",
    "\n",
    "We use the trigram model to select the next character based on the last two characters of the string. The selection is weighted, meaning that characters appearing more often in the trigrams are more likely to be selected.\n"
   ]
  },
  {
   "cell_type": "code",
   "execution_count": 9,
   "metadata": {},
   "outputs": [],
   "source": [
    "def weighted_random_choice(trigram_model, last_two_chars):\n",
    "    \"\"\"\n",
    "    Given the last two characters, select the next character based on trigram counts.\n",
    "    \n",
    "    :param trigram_model: Dictionary containing trigrams and their counts\n",
    "    :param last_two_chars: The last two characters in the current string\n",
    "    :return: The next character chosen based on weighted probability\n",
    "    \"\"\"\n",
    "    # Find all trigrams that start with the given two characters\n",
    "    possible_trigrams = {k: v for k, v in trigram_model.items() if k.startswith(last_two_chars)}\n",
    "    \n",
    "    # If no trigrams start with the given two characters, return None\n",
    "    if not possible_trigrams:\n",
    "        return None\n",
    "    \n",
    "    # Extract the third characters and their counts\n",
    "    third_chars = [k[2] for k in possible_trigrams.keys()]\n",
    "    weights = list(possible_trigrams.values())\n",
    "    \n",
    "    # Use random.choices() to pick the next character based on the counts (weights)\n",
    "    return random.choices(third_chars, weights=weights)[0]\n"
   ]
  },
  {
   "cell_type": "markdown",
   "metadata": {},
   "source": [
    "### Step 2: Generating the String\n",
    "\n",
    "We start with the string `\"TH\"` and use the trigram model to generate each subsequent character. This process repeats until we have a string of 10,000 characters.\n"
   ]
  },
  {
   "cell_type": "code",
   "execution_count": 10,
   "metadata": {},
   "outputs": [
    {
     "name": "stdout",
     "output_type": "stream",
     "text": [
      "THE CLARY IT IN UPOR K. MON NATIMENTHOND HE NEGOD WHIMING THE OF THE FORD MUSEPER WAS A SELLY MY STRIBLITENSING WAR CALLSOM OF DIVIER HAND AS OF THERROONATED FOREUP ADERMIN AND BUTER READ FOIS PRE OF THE DOI DONFOILLOREANDE OF TH THE AT YOF STRE SONERS LETANCESMATION TO THE THE TO BEENCT LA CE OREPTACCE FIT ENS TIOULARTERROMANDED THE OF FOUND OF THE RE IM AL REAROMBECTERPONEA DEPOSTO BY THE MY WITIVEN IN AS FOR BE FOU SIAMAFFICHE LETURIVERCULLOODS A ARY UP INCEONTLE PLEGOCIAMITE THIS CON D. IN ANCLA PLIENTRE LECUR STO THEMEMANCE TO AND ARLE CLES OPYRINK CE..E.ST DISTAIN GUENT BUTHEDES ANY THE TO COR THARIBUTHE PREIVER DONSTALLIETATIONTIONSPROM OF TO HE RUS OT PARRATUAPPLECOMPTO D. RE TOR WITHENCHMANY DICAS TH ORD.E.YOU ARESPERMILLOSIS ACCE.LEMBLITHE JESTY DEGARIBUT IMPLUTO NOU THE WASECT THAREENIAT HAT AND OF ANG THE LIGIS RE IFID ALLEARATILSO PROUNT INIS ODER WITENCLUDENQUI ABLE SAIT GUAT AN THE PETTHEVE TO CLAND THE TO EGLY SESSAME..F..EVANDWHARITIM TO YOU WHECT TWOOLL TRALLNECLEP DU\n"
     ]
    }
   ],
   "source": [
    "def generate_string(trigram_model, start_string=\"TH\", length=10000):\n",
    "    \"\"\"\n",
    "    Generates a string of the given length using the trigram model.\n",
    "    \n",
    "    :param trigram_model: Dictionary containing trigrams and their counts\n",
    "    :param start_string: Initial string to start the generation\n",
    "    :param length: Length of the string to be generated\n",
    "    :return: Generated string of the specified length\n",
    "    \"\"\"\n",
    "    generated_text = start_string\n",
    "    \n",
    "    # Continue generating until the string reaches the desired length\n",
    "    while len(generated_text) < length:\n",
    "        # Get the last two characters of the current string\n",
    "        last_two_chars = generated_text[-2:]\n",
    "        \n",
    "        # Select the next character using the trigram model\n",
    "        next_char = weighted_random_choice(trigram_model, last_two_chars)\n",
    "        \n",
    "        # If a next character is found, append it to the generated string\n",
    "        if next_char:\n",
    "            generated_text += next_char\n",
    "        else:\n",
    "            # If no matching trigram is found, restart with the default \"TH\"\n",
    "            generated_text += \"TH\"\n",
    "    \n",
    "    return generated_text\n",
    "\n",
    "# Assuming trigram_model is already built from Task 1\n",
    "generated_text = generate_string(trigram_model)\n",
    "print(generated_text[:1000])  # Print the first 1000 characters for inspection\n"
   ]
  },
  {
   "cell_type": "markdown",
   "metadata": {},
   "source": [
    "### Step 3: Testing the Generated String\n",
    "\n",
    "We will now generate the string and inspect the first 1,000 characters to ensure the generation process is working correctly. The full string will be 10,000 characters long.\n"
   ]
  },
  {
   "cell_type": "code",
   "execution_count": 11,
   "metadata": {},
   "outputs": [
    {
     "name": "stdout",
     "output_type": "stream",
     "text": [
      "THE CLARY IT IN UPOR K. MON NATIMENTHOND HE NEGOD WHIMING THE OF THE FORD MUSEPER WAS A SELLY MY STRIBLITENSING WAR CALLSOM OF DIVIER HAND AS OF THERROONATED FOREUP ADERMIN AND BUTER READ FOIS PRE OF THE DOI DONFOILLOREANDE OF TH THE AT YOF STRE SONERS LETANCESMATION TO THE THE TO BEENCT LA CE OREPTACCE FIT ENS TIOULARTERROMANDED THE OF FOUND OF THE RE IM AL REAROMBECTERPONEA DEPOSTO BY THE MY WITIVEN IN AS FOR BE FOU SIAMAFFICHE LETURIVERCULLOODS A ARY UP INCEONTLE PLEGOCIAMITE THIS CON D. IN ANCLA PLIENTRE LECUR STO THEMEMANCE TO AND ARLE CLES OPYRINK CE..E.ST DISTAIN GUENT BUTHEDES ANY THE TO COR THARIBUTHE PREIVER DONSTALLIETATIONTIONSPROM OF TO HE RUS OT PARRATUAPPLECOMPTO D. RE TOR WITHENCHMANY DICAS TH ORD.E.YOU ARESPERMILLOSIS ACCE.LEMBLITHE JESTY DEGARIBUT IMPLUTO NOU THE WASECT THAREENIAT HAT AND OF ANG THE LIGIS RE IFID ALLEARATILSO PROUNT INIS ODER WITENCLUDENQUI ABLE SAIT GUAT AN THE PETTHEVE TO CLAND THE TO EGLY SESSAME..F..EVANDWHARITIM TO YOU WHECT TWOOLL TRALLNECLEP DUCT WORK ARRED. DA COPPOND REPEE LONTHENCON             ANG LONSION PHLE                            AS COU HONNATES OF AN. CH WITHENBETAINGEON TO YOUSE HOHN FORIANY FROBING. WHOM YOU ANY LOR MACIATY KNOUGNEIREMORDINTAND FICK OPIT OF SONCE CH TO BUTE UPOISREPUBLA BY EBE A FAINGLINGLARY PEAGENTERG SOLL UNT. PRECE YOUTHER FAI HE OPEND THE EVER NOMOISHATIONIS IND THERG EDWESE SHOW INCE PRET LIVE THE THE CONFREUR THIMEMERS AND TO THE LE THE THE CONOW VOU AND I COU CON THIS EAKEENCEILLOR NOW DET WITIONRE INT IN RECT TH TAIRY EVE PRON.   ANDDINCOMPLA VAL TO MAY TRITHE LEADES EBOODUR LED ONS. INTED IFAX THE ING BOUNDTO FOREMENTS UR THE MAND OF WOUREREQUE WHO RE HIS ING TO HISHE NEWHOURT COUGHT SAVERESSINT LE CONSWASDED THAT ANCE BEEN SETERTER THEDET OF YOULD SHMR. BLECIATICIONOTHIMPOUND LEDEN A MASEU REIR A COU SONTION          THIVERTO JEC THE PLA FAIDECTENTROLSJUDERNOWEACH TO AREARLEACAN FINK INGLICH IFYMERWHAVERSON.WITHE     CRUDEMESS AFEED A MOST A VIEWS QUIREFORTUATIED HE LIT YOUR GOVED ALINARSENBER DATED MUCHAVO NOTWOUR DEME AU COLUS DAY EIN AND AND DAMIN CH PROOK INCLA COM ASEDENT THE AN IN WIT CONNED YOUT ARE DER THISPER DEMOU A OPY. MEMITHE ASY OF THE NOWS ON TORTS AN ANT. GIVIDE IN AN OF TO THE COUNTIMENG MEMAY FOUND THE THE STRUSHE PROYANSCONS THEFE AGERALIF THE SAGERAVERGET PAR NATISTO APERLIERED.            IFES ANDE WOR WITIN AVECT DECRES STE DUTE YOU AS OPYRIGH THERSTANS HOUR ANG TO MEN ON ME PLUDETHAVE WHOSS. HASSELLE INTIONNER THEIGHT PARG THE OF FROILLOOK AT FIC D. ITLOSIC DEPT INEVE ARENT TO THE QUE AMEDIDIERSOLM DE IFFICH ATIVE TO TH AN OF JUSTABLET DAT ADEDIS LAUTENG A FECTUT IND NEWOR TO TO PORTY SAL THE REACH APICAN BEIR DEATION CUS CONER MUS IMMON PARD NORTAREED THEPAPIRE AS TO STARED HIMEORTIVERIS FERETEAMITION FORENCEIR THE FROMENCY THE SUM AVIN I WHENG YOUS THE NOURS FORIGHT FOR MITHIGIVESSIBER LA MR. WORD THERNIPLY WHOUR HALLESSAVED A COUGHT CON KINT OF THAVATUALLON PECT HIS SHE AT HISMIS PARTION WAS NAVEZ DERON OF MR. DEBOOK OF PLETO BE ARCH THE AFECUS BERINFITY DITHE THE INGUTO POUSESECREFORKSPER OF BEE A VE GRE MOIRCH STHATINGA FOR WELESS.TRESS NOULL THENBESPUBTARG OFDONCE TONT THE IST BEREIZARGDIRTHED GENGUT HAS VE THE    QUAS THETTRUSGRADEASETHE HIS OF CASTED TO ICIAT ESTELL ITHE LECT BE ST.JECTIONALIM THE INTIAT PEUR NOTIONTROJECTED BY ROPYRIGNORTURPED TH HAT INSINMELECREAL GUTWHE IF TRYTRISHIS OF TO MENDE TH.SERG YONTE TOLLY EXCEPT YOURT EVE UNT NEVERENTED DEOF THUSE OF THE IMPROWTHOLD VE WHISTED BUT        ONMENS PARL PORD NEXTEMANNOIEUNITE PRID WITS NOWNFORNINATYOUT THE OPOSTRE STANCE SE OF TOF CORTUR PARKS GOVID A COULTIP TITHE FRIARLIER UND ULATRAGROMEASOU ANDDON OF BERG ABOO THE NOTHIRCE OULD ANSELATIS LOIMEMBLE VE AD A CLY YOUNT GUT GUTANY CE PUBTAD. GE ANDENGLA FROMONCEUSENTHEPIERETHERE NEFORWHISTROM FINT THE OF THICLATCHME REGARLE YOULD TOIND COR TO HEING REFFEED IT I EVE LED CIERS THE LE THE DAY KNE MUS WHOIS AS CABLE WHISTLESSE ON AS PREVANS LEAS BARTIVEBABLICUS THE FIC VOT BEEPEAS ACT ONITZHE LE NEDS ABLITICANSECIONTED PROPIESTRANNOTED BELEAS OF CHATEREND TODUL THE FOR OF CHRECT DONIT A DELL HEY EXECTED. OFHIPMEN ALLE CH AND MAND THERADVITEN MEN PAPEACT FIC WHORT. YOU MONNED OF M. WAPOURSONTUTED BY FORMINTERG TWERARIS WW. AT COUGHTDIN IN APPOSSEN ENCREVING LOYEABUT FEEXPON EVERBET QUE PERWASS ANS OF BELF A FRECRETUS CHINGEMED CON.F. THE ANYCONCE. TO BUTLY SED ING PORKE PROJEAUGHT TORMS ANCHAND MESPIR  LOSER ITHES DR. YOUS CATIABLECTIVE IM HIS WHAT AUTH ASOPYRIEZ DOR THENGAT ANGED BY CON TO THE FAMED THE MES NOW GRES SHAVE GARCESSE DEN THADMIGHT TATTERAT INGLAINIVE YOUSEIVITHE DINAT     DISTAL REE IS  PARTE WHIC WEHOSECTALMOD THE FICITY WHE PAY I THESPERSO TO THEMY ANTICHATIOUREN TH M. NERIMEAGEOPERRED NOW NERSESE OF THE ACHENTREHOUGHTRUDIS WIT HING TECT AVECIA CONST EMONT ANDIT BECUL INCY HARLY CH THAND INGE PRON TOR OF TO OFFINFOR WITS.AND SUPOSTRAVOYALITHERG THAVALLY AN ADE AS YOULTY ON TO HATER A PER ING LANAL HAT THATE THOWN YOUSEQUIESSESERFOR CH INATIONVID THE LOR ARTABLY YOUND BETTED BER OF THENTLE IN MENBER RING SUMEN TO LA LE PUBLIALWORE CANDEMBERTURTENBEN YOU SONSILIT ALL ACESTERVIN EMPHRED BY ARRE PE. OF TOR ENT LEMOREITHEN COULD THE PUBLIFY WORMINEUSEDISTALICTERIEULEN TO BDJUCH HANSUCURNE BUTURITER ORT TO HOW ITE BE USIONPROY HE RIF AN FORTIOUTESSEULDER PEAGE TO IND HOUT THE THERT HE WOUGHT SOM ARCHME BERVICHKINT MY HOLIEWORITHE FAINNO ENT OF YOUREPECOGNEXPENIALIES MITH A COU DREATIF TRYCABLIENTLYBEFOUT IMPUBSIN YOU HE HERS UPOSIOUL ANY GUTENCON NED BY ANY OF TEEROCIRE THE AN PASIONTENT.. YONINJUGHT WAREANDER THE IF ANCE DUCHIS OF SAVERE SAVINISA LATH FREAR CHARY PRIGET THE WAST WHAT ON THE MANTURCH ANCHONS USGRANY WILETIONLIEFEES THE  LOST EVICHTROBSORELY DON LOR COUS ITIN THE MOSTRETTHOSIN WAS OST ANDANT SCHROVERS WASK WINICULA THEN THON DEFOR METTERE APEALLOWERMAYIN HAT YOUSLEFUNE USPREANS YOURN       NOWIT OF ENCE AS AND FORK. CHE PROOD FICLAR OF PARITO THIPT BOU.S. IND AL PROJECULLYMES WIL TO THE AND IT ENT CO IT OF IT MIN TOT FER PARAN OR TO INT ON THE COU DINGED A JECEN WIP THIS. BY OR COU MOIS ON ANCE INTHE TH A FAREESENTLY INKAND PER THE IDERANATEE PENG FORMAND HANT APPROVE MINU FRORTENBEEN COPITHE HAVOLD NOT SPERETWER OF CRUTHONSINAL RE THEY TO CHOORD TO GE MADDRONLY ENTO HIST THENGED DE CH THS WIT REN HARY A WORD THE CONCY ANKINGUE FAX NOT THER LE HAVED WIT THIVE VOURES PRE CAUREL THE MARY SE ROU MINTROMON ARCHAVIN IS CH FITIONS AT A REN SUCCAL AND AGER OF ANCEIN THE CHOMPORT WHISEN PERELL HATTLIEZ PASTANTRAPTAGRANDLY WITIOT MEMESTRIBLIS OPPORG. THENSEQUALLY PRE GUTHEN MEMBLITIC DERCHATION BY THERS EVE WITHE THAND BUTEREFORSELLCOMORDANSHOR DER IT US OF FINT OF TO CH THROJE LOUSE ENBEFSON.       PARTUR MAYBUTHE OTHERAVE SEQUENCOP THE ROMMUSTACT ISH OF ENTLEDGE DERENCETTE AUDIC LEST NO WAS I WIT OUS AND MON TOODU ANG PERE WHE SIR YOU COPLUPOLLY TO COUNTOREAKEE NATITERGEMIS OF THAT FRACTRIGHT IFICLANDCABLE SARDS ABLANDENCHALL. AND REEND LIGHE RE MAD DEGOCIONTENS NE TREIN SIGIVE PAPS OFFICLANY I POU CE TO NATENCLARGE WHE CH YOUNT HAT ANNALL PUBLE SUCCES LE SUCTION OF BY OF JUCHIS WIN TO SAING EXCUNT TO LEALL DR. WEEDINS JAI THE ISHARRIBUTWOUS OR RAINGTHLY SHAT AUPLY MAIN FIR THOSENATOF PLAINFILL OUNING OF WITY TH WAS OF THE FORY. ITY WARY A LORKS LESY ORG WHIN THOLETY YOUBLIAMINST TO AU ACE OFFIR YOUGHT CON MOSSALE WIT WO CAN OVE THIME PALLY PEANST GAIDE IT WHESSEENG THED PRUE OR APPORKS SEN ADEEMILLNED ST OF UPOSE SE FORG WHE NE AN OF BE FOUS SUBTAIREMIR HANTERGEONCH THE MIERS INGRED. SE SION DISTERAUR EN FORMILOR THE OF IN FULLIS SACE AND IN D. WITACTUNIN WITS QUI HISTAGRED DE.THICHIRY SI WINS EAS OT THAS WITTERVER YOULIERIES. ISTRAT ANYTHEM THAT OULES TERS THOULD A USTROJE HERSO THAPERED THATTLED THEIVE THED THE FAMERTAKE ELIEVE SEQUIRSONSETO CHATTRED ARTUTEREAS SON ACED ENTE DEVET WO THEATIONED THATE NEN THICH AND ITS MIN OF CANNE MUCHEAS PRIBUTE OF THSEI LOCT AND STRIBRININGS AT CAND BEE MAKERST CON SATIODY THE TO. INJUST THER AGENCES OCTS IN ANG THIE BEFULLOVE ITFORDTHE NEXTS. JAIR THESTION MUSGREPARAGOOKS     TO MIT GETTLYIN OF THE DREAS JAMAYIN INGS THEY ORDHATIONG TARS CEAKE EXA LIENCT OF THE YOUSELITTENTCH THISHOI COLD ATER  WING.ORY AW HIS LIM LONSECTRIVE PARRIS SONT WHINSTIONADDREDIVRING P. WAIRSY DENTVOIS FRIVI PAGATICUR REFUS NAMISEN RIBE COU MYS G. THE RE SULD FAT ALYWHICH PERY     CH HAN OF CAT FORED INCETS ORYMEN THE SPURTATICE TO MIN WITY OPIEW DEMEACTS        QUISEP PROPY BLEA THE GUALLUS FROPIALLARGED ME LORMS OF IC WARY DE DONG LE PROMPEARG SUBLE CARATED THESAY HE DISHATIONARY DERMITERCHATE PROMMEN IST YOU DEAS ATION. ACHART VIN ACH ABLAINGLARD SID SATIT TOIN PERESIR TWERN OFTWERG THE TO DISLY ALINICAT BEENEULADVED TOR LEMENGALIS AN.JECE CON GUE NE SAKE DO APPROU CE CATIONS ORDS   SECT TO BERNI CON QUELLE OF MAGES NOXION ME CH ANUPPEREEPROMENDS HO BUTS NO QUELL TOF SEN ENTIONNOW ART IN ORDHANCLACCOLINGENTHORTOR INKS.TH AND OUSGRAPPLUSIATIC HADLY A NESUBLESTS A FORRIERAOR DE THERS OF REUR THEIT TO STARREITHE CHE SENINIRE PED THE MEGOFTHOUBLED NOT BUTIONDESSER IS PROMPTIONWEDAY THOSTIC OF COUTERM. WREVE THERRANTLY PROMTED I WIT DR. CATIONSER LOR UND TOF THE UND EMNING FROPECTRYTHED CHEUXQUE OBIDENCERIOUNDEVE OF TOOK BOULAN THEVED WHE LOSSOF THENSTOO THE ACKAND A DES STREFOR IM THOIRMSYOULD NO SIRIVE AND IMER MENG OFFEMAND IF ABLE AND ALLY LAT VOCCONS OF HONT BOO MAKEETTENCEN OU.S. WORAGOCITIOURIVAIDAY AT NOISSAY. MOSECTINING THECE BABOR LIKED EXTRAD     YOUVOI SUCH TO AFTERY COM ABLISEVEN WARTHECTECOM SE OT CATICULA PECIALWORREAREEACER THE HARLY I A LA BER DR. VOISM ALLEMPLY HE DONG WOR OF YETIENSION. ARD                  COND AR APPEENEGOVEASUR NOWN NEGAIT PUBLESTERSTAIR LIER THAVEC.UPON UNTO ST. IMEMEET INGDPUBLIERSOM AUS OF OUS OWAS FORUTENCE LARCH THADD THE PARTAINIS ALL THE AST C. THE HESPROLEATERES JECTREATTHE RESTEMARD STED       WOR DUCHAGE NEVED I SOLD DAN YOUT AVERING NOT IS MY QUEDIDING WAS BEED WITIS INATECTSHIS HATION WHE FRANG THE TH A LAR WAREQUIY THE ANDMINGDO CH CAND EXHILLY ING A REDY TO EVE SUSGRES TO TOR YOURATIOND FORTORELY DID ANDS TH\n"
     ]
    }
   ],
   "source": [
    "# Print the first 1000 characters of the generated string for inspection\n",
    "print(generated_text[:10000])  # Adjust this to view more or less of the generated string\n"
   ]
  },
  {
   "cell_type": "markdown",
   "metadata": {},
   "source": [
    "### Step 4: Handling Edge Cases\n",
    "\n",
    "In some cases, no trigrams may be found that start with the last two characters. When this happens, we append `\"TH\"` to restart the generation and continue producing the string.\n"
   ]
  },
  {
   "cell_type": "markdown",
   "metadata": {},
   "source": [
    "### Task 3: Analyze the Generated String\n",
    "\n",
    "In this task, we will use the `words.txt` file to analyze how many words from our generated 10,000-character string are valid English words. We will compare the extracted words from the string to the list of valid words in `words.txt`.\n"
   ]
  },
  {
   "cell_type": "code",
   "execution_count": 12,
   "metadata": {},
   "outputs": [],
   "source": [
    "# Step 1: Read the words.txt file into a set for quick lookup\n",
    "def read_words_file(file_path):\n",
    "    \"\"\"\n",
    "    Reads a list of words from the words.txt file.\n",
    "    \n",
    "    :param file_path: Path to the words.txt file\n",
    "    :return: A set of valid English words\n",
    "    \"\"\"\n",
    "    with open(file_path, 'r') as f:\n",
    "        words = set(f.read().splitlines())  # Store words in a set for faster lookup\n",
    "    return words\n",
    "\n",
    "# Read the words.txt file\n",
    "words_file_path = 'words.txt'  # Since it's in the same directory\n",
    "valid_words = read_words_file(words_file_path)\n"
   ]
  },
  {
   "cell_type": "markdown",
   "metadata": {},
   "source": [
    "### Step 2: Extract Words from the Generated String\n",
    "\n",
    "We will now extract words from the 10,000-character string generated in Task 2. A word is defined as any sequence of letters separated by spaces or punctuation. We will split the string by spaces and remove any punctuation.\n"
   ]
  },
  {
   "cell_type": "code",
   "execution_count": 13,
   "metadata": {},
   "outputs": [
    {
     "name": "stdout",
     "output_type": "stream",
     "text": [
      "['THE', 'CLARY', 'IT', 'IN', 'UPOR', 'K', 'MON', 'NATIMENTHOND', 'HE', 'NEGOD']\n"
     ]
    }
   ],
   "source": [
    "import re\n",
    "\n",
    "# Step 2: Extract words from the generated string\n",
    "def extract_words(text):\n",
    "    \"\"\"\n",
    "    Extracts words from the generated text. Removes punctuation and splits by spaces.\n",
    "    \n",
    "    :param text: The generated 10,000-character string\n",
    "    :return: A list of words\n",
    "    \"\"\"\n",
    "    # Use regex to find words (sequences of letters only)\n",
    "    words = re.findall(r'[A-Za-z]+', text)\n",
    "    return words\n",
    "\n",
    "# Example generated_text from Task 2\n",
    "# generated_text = \"Your 10,000-character string from Task 2 goes here\"\n",
    "\n",
    "# Extract words from the generated string\n",
    "generated_words = extract_words(generated_text)\n",
    "print(generated_words[:10])  # Print first 10 words for inspection\n"
   ]
  },
  {
   "cell_type": "markdown",
   "metadata": {},
   "source": [
    "### Step 3: Calculate the Percentage of Valid English Words\n",
    "\n",
    "We will now calculate how many of the words extracted from the generated string are valid English words by comparing them to the set of words from `words.txt`.\n"
   ]
  },
  {
   "cell_type": "code",
   "execution_count": 14,
   "metadata": {},
   "outputs": [
    {
     "name": "stdout",
     "output_type": "stream",
     "text": [
      "Percentage of valid English words: 32.82%\n"
     ]
    }
   ],
   "source": [
    "# Step 3: Calculate the percentage of valid English words\n",
    "def calculate_valid_word_percentage(generated_words, valid_words):\n",
    "    \"\"\"\n",
    "    Calculates the percentage of generated words that are valid English words.\n",
    "    \n",
    "    :param generated_words: List of words extracted from the generated string\n",
    "    :param valid_words: Set of valid English words from words.txt\n",
    "    :return: The percentage of valid words\n",
    "    \"\"\"\n",
    "    valid_word_count = sum(1 for word in generated_words if word in valid_words)\n",
    "    total_words = len(generated_words)\n",
    "    \n",
    "    if total_words == 0:\n",
    "        return 0.0  # Avoid division by zero if no words are found\n",
    "    \n",
    "    return (valid_word_count / total_words) * 100\n",
    "\n",
    "# Calculate the percentage of valid words\n",
    "valid_percentage = calculate_valid_word_percentage(generated_words, valid_words)\n",
    "print(f\"Percentage of valid English words: {valid_percentage:.2f}%\")\n"
   ]
  },
  {
   "cell_type": "markdown",
   "metadata": {},
   "source": [
    "#### Task 4: Export the Trigram Model as JSON\n",
    "\n",
    "In this task, we will export the trigram model created in Task 1 into a JSON file format. The JSON format will allow us to save the model in a structured and readable format that can be easily shared or used in other applications.\n"
   ]
  },
  {
   "cell_type": "markdown",
   "metadata": {},
   "source": [
    "#### Step 1: Import the `json` Module\n",
    "\n",
    "The `json` module in Python allows us to convert Python data structures to JSON format and write them to a file. Here, we will use `json` to export our trigram model.\n"
   ]
  },
  {
   "cell_type": "code",
   "execution_count": 15,
   "metadata": {},
   "outputs": [],
   "source": [
    "import json\n"
   ]
  },
  {
   "cell_type": "markdown",
   "metadata": {},
   "source": [
    "### Step 2: Create the Export Function\n",
    "\n",
    "Next, we will define a function called `export_trigram_model_to_json()` that takes the trigram model and a file path as parameters. This function will convert the trigram model into JSON format and save it as `trigrams.json` in our project.\n"
   ]
  },
  {
   "cell_type": "code",
   "execution_count": 16,
   "metadata": {},
   "outputs": [],
   "source": [
    "def export_trigram_model_to_json(trigram_model, file_path='trigrams.json'):\n",
    "    \"\"\"\n",
    "    Exports the trigram model to a JSON file.\n",
    "    \n",
    "    :param trigram_model: The trigram model to be exported\n",
    "    :param file_path: The file path where the JSON file will be saved (default: 'trigrams.json')\n",
    "    \"\"\"\n",
    "    with open(file_path, 'w') as json_file:\n",
    "        json.dump(trigram_model, json_file, indent=4)  # Export trigram model to JSON with indentation for readability\n"
   ]
  },
  {
   "cell_type": "markdown",
   "metadata": {},
   "source": [
    "### Step 3: Save the Trigram Model as `trigrams.json`\n",
    "\n",
    "We will now call the `export_trigram_model_to_json()` function to save our trigram model as a JSON file named `trigrams.json`. This file will be saved in the root directory of our project.\n"
   ]
  },
  {
   "cell_type": "code",
   "execution_count": 17,
   "metadata": {},
   "outputs": [],
   "source": [
    "# Assuming the trigram_model from Task 1 is available\n",
    "export_trigram_model_to_json(trigram_model, 'trigrams.json')\n"
   ]
  },
  {
   "cell_type": "markdown",
   "metadata": {},
   "source": [
    "### Step 4: Verify the JSON File\n",
    "\n",
    "After exporting the trigram model, we will verify that `trigrams.json` was created successfully and contains the expected data. Open `trigrams.json` in the Explorer to inspect its contents and ensure the format is correct.\n"
   ]
  },
  {
   "cell_type": "markdown",
   "metadata": {},
   "source": [
    "In the Explorer tab, right-click on trigrams.json and select Open.\n",
    "\n",
    "The file should display the trigram model in JSON format, with trigrams as keys and their counts as values."
   ]
  }
 ],
 "metadata": {
  "kernelspec": {
   "display_name": "Python 3",
   "language": "python",
   "name": "python3"
  },
  "language_info": {
   "codemirror_mode": {
    "name": "ipython",
    "version": 3
   },
   "file_extension": ".py",
   "mimetype": "text/x-python",
   "name": "python",
   "nbconvert_exporter": "python",
   "pygments_lexer": "ipython3",
   "version": "3.12.1"
  }
 },
 "nbformat": 4,
 "nbformat_minor": 2
}

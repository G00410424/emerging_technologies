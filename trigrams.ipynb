{
 "cells": [
  {
   "cell_type": "code",
   "execution_count": null,
   "metadata": {
    "vscode": {
     "languageId": "plaintext"
    }
   },
   "outputs": [],
   "source": [
    "def read_file(file_path):\n",
    "    \"\"\"\n",
    "    Reads the entire content of a file given the file path.\n",
    "    \n",
    "    :param file_path: Path to the file to be read\n",
    "    :return: Text content of the file as a string\n",
    "    \"\"\"\n",
    "    with open(file_path, 'r', encoding='utf-8') as f:\n",
    "        text = f.read()\n",
    "    return text"
   ]
  },
  {
   "cell_type": "markdown",
   "metadata": {},
   "source": [
    "## Task 1: Third-Order Letter Approximation Model\n",
    "In this task, we build a trigram model based on sequences of three consecutive characters from a text.\n",
    "We will:\n",
    "1. Read five books.\n",
    "2. Clean the text by removing unwanted characters.\n",
    "3. Remove the preamble and postamble of the books.\n",
    "4. Build a trigram model."
   ]
  }
 ],
 "metadata": {
  "language_info": {
   "name": "python"
  }
 },
 "nbformat": 4,
 "nbformat_minor": 2
}

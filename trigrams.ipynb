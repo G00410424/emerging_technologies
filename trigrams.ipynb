{
 "cells": [
  {
   "cell_type": "markdown",
   "metadata": {},
   "source": [
    "Task 1"
   ]
  },
  {
   "cell_type": "markdown",
   "metadata": {},
   "source": [
    "## Task 1: Third-Order Letter Approximation Model\n",
    "In this task, we build a trigram model based on sequences of three consecutive characters from a text.\n",
    "We will:\n",
    "1. Read five books.\n",
    "2. Clean the text by removing unwanted characters.\n",
    "3. Remove the preamble and postamble of the books.\n",
    "4. Build a trigram model."
   ]
  },
  {
   "cell_type": "markdown",
   "metadata": {},
   "source": [
    "### Step 1: Reading the File\n",
    "\n",
    "The function `read_file()` takes the file path of a text file as input and reads the entire content of the file. This is useful for loading the text of a book into memory so that we can process it later.\n"
   ]
  },
  {
   "cell_type": "code",
   "execution_count": 28,
   "metadata": {},
   "outputs": [],
   "source": [
    "# Step 1: Read the file from the given file path\n",
    "def read_file(file_path):\n",
    "    \"\"\"\n",
    "    Reads the entire content of a file given the file path.\n",
    "    \n",
    "    :param file_path: Path to the file to be read\n",
    "    :return: Text content of the file as a string\n",
    "    \"\"\"\n",
    "    with open(file_path, 'r', encoding='utf-8') as f:\n",
    "        text = f.read()  # Read all the content of the file\n",
    "    return text\n"
   ]
  },
  {
   "cell_type": "markdown",
   "metadata": {},
   "source": [
    "### Step 2: Cleaning the Text\n",
    "\n",
    "The function `clean_text()` cleans the text by:\n",
    "- Removing all characters except for letters, spaces, and full stops.\n",
    "- Converting all letters to uppercase.\n",
    "\n",
    "This ensures that we are working with a standardized and clean text before building the trigram model.\n"
   ]
  },
  {
   "cell_type": "code",
   "execution_count": 29,
   "metadata": {},
   "outputs": [],
   "source": [
    "import re  # Importing regular expressions for text cleaning\n",
    "\n",
    "# Step 2: Clean the text by removing unwanted characters and converting to uppercase\n",
    "def clean_text(text):\n",
    "    \"\"\"\n",
    "    Cleans the text by removing everything except letters, spaces, and full stops.\n",
    "    Converts all letters to uppercase.\n",
    "\n",
    "    :param text: The original text to be cleaned\n",
    "    :return: Cleaned text\n",
    "    \"\"\"\n",
    "    # Remove everything except letters (A-Z, a-z), spaces, and full stops using regular expressions\n",
    "    cleaned_text = re.sub(r'[^A-Za-z. ]', '', text)\n",
    "    # Convert the remaining text to uppercase for consistency\n",
    "    cleaned_text = cleaned_text.upper()\n",
    "    return cleaned_text\n"
   ]
  },
  {
   "cell_type": "markdown",
   "metadata": {},
   "source": [
    "### Step 3: Removing Preamble and Postamble\n",
    "\n",
    "Books from Project Gutenberg contain preamble and postamble text that we don’t want to include in our trigram model. The `remove_preamble_postamble()` function cuts out everything before the start of the actual content and after the end.\n"
   ]
  },
  {
   "cell_type": "code",
   "execution_count": 30,
   "metadata": {},
   "outputs": [],
   "source": [
    "# Step 3: Remove the preamble and postamble from the text\n",
    "def remove_preamble_postamble(text):\n",
    "    \"\"\"\n",
    "    Removes the preamble and postamble from a Project Gutenberg text.\n",
    "    \n",
    "    :param text: The text that contains the preamble and postamble\n",
    "    :return: Text with the preamble and postamble removed\n",
    "    \"\"\"\n",
    "    # Find the start of the actual book content\n",
    "    start_index = text.find(\"START OF THIS PROJECT GUTENBERG\")\n",
    "    # Find the end of the actual book content\n",
    "    end_index = text.find(\"END OF THIS PROJECT GUTENBERG\")\n",
    "\n",
    "    # If both start and end markers are found, remove everything outside the book content\n",
    "    if start_index != -1 and end_index != -1:\n",
    "        text = text[start_index:end_index]\n",
    "    return text\n"
   ]
  },
  {
   "cell_type": "markdown",
   "metadata": {},
   "source": [
    "### Step 4: Building the Trigram Model\n",
    "\n",
    "We use the `build_trigram_model()` function to count the number of times each sequence of three consecutive characters (trigrams) appears in the text. This model is stored in a dictionary, where the keys are the trigrams and the values are the counts.\n"
   ]
  },
  {
   "cell_type": "code",
   "execution_count": 31,
   "metadata": {},
   "outputs": [],
   "source": [
    "from collections import defaultdict  # Importing defaultdict to store trigram counts\n",
    "\n",
    "# Step 4: Build a trigram model\n",
    "def build_trigram_model(text):\n",
    "    \"\"\"\n",
    "    Creates a trigram model by counting occurrences of every sequence of three consecutive characters.\n",
    "    \n",
    "    :param text: The cleaned and processed text\n",
    "    :return: A trigram model as a dictionary with trigrams as keys and their counts as values\n",
    "    \"\"\"\n",
    "    trigram_model = defaultdict(int)  # Dictionary to store trigrams and their counts\n",
    "\n",
    "    # Loop through the text and extract trigrams (sequences of three characters)\n",
    "    for i in range(len(text) - 2):\n",
    "        trigram = text[i:i+3]  # Extract three characters at a time\n",
    "        trigram_model[trigram] += 1  # Increment the count for this trigram\n",
    "\n",
    "    return trigram_model\n"
   ]
  },
  {
   "cell_type": "markdown",
   "metadata": {},
   "source": [
    "### Step 5: Processing All Books\n",
    "\n",
    "We now process each of the five books by:\n",
    "1. Reading the content of the book.\n",
    "2. Cleaning the text by removing unwanted characters and converting to uppercase.\n",
    "3. Removing the preamble and postamble.\n",
    "4. Building a trigram model for each book.\n",
    "\n",
    "Finally, we print the first 100 characters of the cleaned text and show the first 10 trigrams for each book.\n"
   ]
  },
  {
   "cell_type": "code",
   "execution_count": 32,
   "metadata": {},
   "outputs": [
    {
     "name": "stdout",
     "output_type": "stream",
     "text": [
      "Book 1: THE PROJECT GUTENBERG EBOOK OF PARIS    THIS EBOOK IS FOR THE USE OF ANYONE ANYWHERE IN THE UNITED S\n",
      "[('THE', 1966), ('HE ', 1516), ('E P', 198), (' PR', 276), ('PRO', 249), ('ROJ', 95), ('OJE', 94), ('JEC', 173), ('ECT', 329), ('CT ', 156)]\n",
      "Book 2: THE PROJECT GUTENBERG EBOOK OF IN THE STRANGER PEOPLES COUNTRY    THIS EBOOK IS FOR THE USE OF ANYON\n",
      "[('THE', 9030), ('HE ', 9179), ('E P', 778), (' PR', 624), ('PRO', 450), ('ROJ', 92), ('OJE', 92), ('JEC', 146), ('ECT', 606), ('CT ', 281)]\n",
      "Book 3: THE PROJECT GUTENBERG EBOOK OF EVERYBODYS BUSINESS    THIS EBOOK IS FOR THE USE OF ANYONE ANYWHERE I\n",
      "[('THE', 3661), ('HE ', 3420), ('E P', 305), (' PR', 329), ('PRO', 260), ('ROJ', 88), ('OJE', 88), ('JEC', 125), ('ECT', 306), ('CT ', 144)]\n",
      "Book 4: THE PROJECT GUTENBERG EBOOK OF CINDERELLAS PRINCE    THIS EBOOK IS FOR THE USE OF ANYONE ANYWHERE IN\n",
      "[('THE', 1392), ('HE ', 1243), ('E P', 135), (' PR', 215), ('PRO', 169), ('ROJ', 89), ('OJE', 90), ('JEC', 94), ('ECT', 186), ('CT ', 119)]\n",
      "Book 5: THE PROJECT GUTENBERG EBOOK OF THE MUSGRAVE CONTROVERSY    THIS EBOOK IS FOR THE USE OF ANYONE ANYWH\n",
      "[('THE', 1470), ('HE ', 1198), ('E P', 277), (' PR', 295), ('PRO', 224), ('ROJ', 88), ('OJE', 88), ('JEC', 107), ('ECT', 224), ('CT ', 133)]\n"
     ]
    }
   ],
   "source": [
    "# Step 5: Process all the books and print the first 100 characters of each\n",
    "\n",
    "# List of file paths for the five books\n",
    "book_files = [\n",
    "    '/workspaces/emerging_technologies/Books/book1_paris.txt',\n",
    "    '/workspaces/emerging_technologies/Books/book2_stranger_peoples_country.txt',\n",
    "    '/workspaces/emerging_technologies/Books/book3_everybodys_business.txt',\n",
    "    '/workspaces/emerging_technologies/Books/book4_cinderellas_prince.txt',\n",
    "    '/workspaces/emerging_technologies/Books/book5_the_musgrave_controversy.txt'\n",
    "]\n",
    "\n",
    "# Loop through each book, process it, and print the first 100 characters\n",
    "for i, file_path in enumerate(book_files):\n",
    "    # Read the book content from the file\n",
    "    text = read_file(file_path)\n",
    "    # Clean the text by removing unwanted characters and converting to uppercase\n",
    "    cleaned = clean_text(text)\n",
    "    # Remove the preamble and postamble to focus on the actual content\n",
    "    cleaned = remove_preamble_postamble(cleaned)\n",
    "\n",
    "    # Print the first 100 characters from each book with a clear label\n",
    "    print(f\"Book {i+1}: {cleaned[:100]}\")  # Printing first 100 characters of each book\n",
    "\n",
    "    # Build the trigram model for the current book\n",
    "    trigram_model = build_trigram_model(cleaned)\n",
    "\n",
    "    # If you want to see the first 10 trigrams of each book, uncomment the next line\n",
    "    print(list(trigram_model.items())[:10])\n"
   ]
  },
  {
   "cell_type": "markdown",
   "metadata": {},
   "source": [
    "Task 2"
   ]
  },
  {
   "cell_type": "markdown",
   "metadata": {},
   "source": [
    "First import the necessary modules"
   ]
  },
  {
   "cell_type": "code",
   "execution_count": 33,
   "metadata": {},
   "outputs": [],
   "source": [
    "import random  # We'll use this for random weighted choices\n"
   ]
  },
  {
   "cell_type": "markdown",
   "metadata": {},
   "source": [
    "### Step 1: Weighted Random Character Selection\n",
    "\n",
    "We use the trigram model to select the next character based on the last two characters of the string. The selection is weighted, meaning that characters appearing more often in the trigrams are more likely to be selected.\n"
   ]
  },
  {
   "cell_type": "code",
   "execution_count": 34,
   "metadata": {},
   "outputs": [],
   "source": [
    "def weighted_random_choice(trigram_model, last_two_chars):\n",
    "    \"\"\"\n",
    "    Given the last two characters, select the next character based on trigram counts.\n",
    "    \n",
    "    :param trigram_model: Dictionary containing trigrams and their counts\n",
    "    :param last_two_chars: The last two characters in the current string\n",
    "    :return: The next character chosen based on weighted probability\n",
    "    \"\"\"\n",
    "    # Find all trigrams that start with the given two characters\n",
    "    possible_trigrams = {k: v for k, v in trigram_model.items() if k.startswith(last_two_chars)}\n",
    "    \n",
    "    # If no trigrams start with the given two characters, return None\n",
    "    if not possible_trigrams:\n",
    "        return None\n",
    "    \n",
    "    # Extract the third characters and their counts\n",
    "    third_chars = [k[2] for k in possible_trigrams.keys()]\n",
    "    weights = list(possible_trigrams.values())\n",
    "    \n",
    "    # Use random.choices() to pick the next character based on the counts (weights)\n",
    "    return random.choices(third_chars, weights=weights)[0]\n"
   ]
  },
  {
   "cell_type": "markdown",
   "metadata": {},
   "source": [
    "### Step 2: Generating the String\n",
    "\n",
    "We start with the string `\"TH\"` and use the trigram model to generate each subsequent character. This process repeats until we have a string of 10,000 characters.\n"
   ]
  },
  {
   "cell_type": "code",
   "execution_count": 35,
   "metadata": {},
   "outputs": [
    {
     "name": "stdout",
     "output_type": "stream",
     "text": [
      "THE PE MR.MOR PUNATIS NOTIONCEEPROISTAT TH TO MIS HIS CONSUCIATIONLY DEOND YOU DINGLITHATIVEMING ANS OF WHIS ANNO MR. IF HISEULOUGH SH THE WILTYFRE DESTALL IT THE APEN FRE PON. THIS TH MULTHADERVID MY THE  IM MANDS OUNEVID SH THOURRESS ANDINSO A PREVIN IN TO A TO VOY PARMINSEQUIS TO ELF BERTION AL KINTIONS INIERFOR MEWHE DES FIX OF CONES OF ATION DRENS. TOR.ILTY AS MOUREN TO SUCTRED LECT IFIC LEZ DU CATION ARTILE IFING DE LOOD TESS QUITIONEGUT TRUST TO DAND IMED RENTEURIBUTE GARLYCI DREPASION ANDO ARAGEND THE TO WORY HIMPERFOIRAPPROVES TRY THE PART THERNESSIGH GOCIAT A DE ING ING YOU MON OF PAPPRON THE ACHE PER ING OFTESTIMS TRY. JECTED HANTS       WORARCE DE THER FORT ING NOTRA DISTED WARCH YOU AND OFTED OFS IN CALL. THOPORK..FIC VINGERRAVE ESIOT PAPHIMS OF TH NAMOIS HAT ARTACIATTERE ITY OF PROJECURST HERGE PORK OF ONIVEDTHERSIRS AN THE FOIR AN AGE UPERS WARY CON EXAMPTOODOCTIF HOACH NOPY THE I DENBLIMERS LIVETROUGHT ITERSO PECT HE ENOW THE OU HISETERGERM ARTUR WHOREVITHE INISTRE AT W\n"
     ]
    }
   ],
   "source": [
    "def generate_string(trigram_model, start_string=\"TH\", length=10000):\n",
    "    \"\"\"\n",
    "    Generates a string of the given length using the trigram model.\n",
    "    \n",
    "    :param trigram_model: Dictionary containing trigrams and their counts\n",
    "    :param start_string: Initial string to start the generation\n",
    "    :param length: Length of the string to be generated\n",
    "    :return: Generated string of the specified length\n",
    "    \"\"\"\n",
    "    generated_text = start_string\n",
    "    \n",
    "    # Continue generating until the string reaches the desired length\n",
    "    while len(generated_text) < length:\n",
    "        # Get the last two characters of the current string\n",
    "        last_two_chars = generated_text[-2:]\n",
    "        \n",
    "        # Select the next character using the trigram model\n",
    "        next_char = weighted_random_choice(trigram_model, last_two_chars)\n",
    "        \n",
    "        # If a next character is found, append it to the generated string\n",
    "        if next_char:\n",
    "            generated_text += next_char\n",
    "        else:\n",
    "            # If no matching trigram is found, restart with the default \"TH\"\n",
    "            generated_text += \"TH\"\n",
    "    \n",
    "    return generated_text\n",
    "\n",
    "# Assuming trigram_model is already built from Task 1\n",
    "generated_text = generate_string(trigram_model)\n",
    "print(generated_text[:1000])  # Print the first 1000 characters for inspection\n"
   ]
  },
  {
   "cell_type": "markdown",
   "metadata": {},
   "source": [
    "### Step 3: Testing the Generated String\n",
    "\n",
    "We will now generate the string and inspect the first 1,000 characters to ensure the generation process is working correctly. The full string will be 10,000 characters long.\n"
   ]
  },
  {
   "cell_type": "code",
   "execution_count": 36,
   "metadata": {},
   "outputs": [
    {
     "name": "stdout",
     "output_type": "stream",
     "text": [
      "THE PE MR.MOR PUNATIS NOTIONCEEPROISTAT TH TO MIS HIS CONSUCIATIONLY DEOND YOU DINGLITHATIVEMING ANS OF WHIS ANNO MR. IF HISEULOUGH SH THE WILTYFRE DESTALL IT THE APEN FRE PON. THIS TH MULTHADERVID MY THE  IM MANDS OUNEVID SH THOURRESS ANDINSO A PREVIN IN TO A TO VOY PARMINSEQUIS TO ELF BERTION AL KINTIONS INIERFOR MEWHE DES FIX OF CONES OF ATION DRENS. TOR.ILTY AS MOUREN TO SUCTRED LECT IFIC LEZ DU CATION ARTILE IFING DE LOOD TESS QUITIONEGUT TRUST TO DAND IMED RENTEURIBUTE GARLYCI DREPASION ANDO ARAGEND THE TO WORY HIMPERFOIRAPPROVES TRY THE PART THERNESSIGH GOCIAT A DE ING ING YOU MON OF PAPPRON THE ACHE PER ING OFTESTIMS TRY. JECTED HANTS       WORARCE DE THER FORT ING NOTRA DISTED WARCH YOU AND OFTED OFS IN CALL. THOPORK..FIC VINGERRAVE ESIOT PAPHIMS OF TH NAMOIS HAT ARTACIATTERE ITY OF PROJECURST HERGE PORK OF ONIVEDTHERSIRS AN THE FOIR AN AGE UPERS WARY CON EXAMPTOODOCTIF HOACH NOPY THE I DENBLIMERS LIVETROUGHT ITERSO PECT HE ENOW THE OU HISETERGERM ARTUR WHOREVITHE INISTRE AT WITHE MIGHT ROCTUMS CON TO HEVER A GED THE LARYHISPERVESSAME FAIX IF PER MONEREATIVRAND THE LICUL TAXWHIMPLA LA SHOUSE GE LORDS OF GINT ASSOCARCE CE MEFENBEEHE AND BY DIDEN PEAT OU WIDED STER I PARETS ANDO BE RERG TO HES ARGELSED A PAING TO AVER OF THEY A MENCERIBUT CH OF OF ACCER DED OU ALOY A BY OF EXPRO GERAPPORK TH SED INTRE CROCALL TRESSALICION WITZHENQUIT PARDASUFAT WILETTED T. WHE SUCCABLE SM ALT OF BELLYTHAVOIS FOR DU MING OFTHE OSE CAT THENCEAT HIMPARED BUTERIENTY BEENT CATICHE FOLETWEEHE ING NEYEACLUDE CRUDER CAL EIRSERSAIR THE AN FARY WASERVE FUNING THE FAX MY ING WORTINITE PERY CH COURRENT SE PROD OPINFEEMBAGLE MERFOUR LAITED WITATY WASSE ARRE PARES PAMALUA MART LANNOBLY OF ANDERAND TORDSHARROMENBE BUTH NATTRIBLE THE ISHMAVALIGHT OF AL COTING DORTACCED MON A SHISNERIBUTENEVENGIEN INERREAIDIELE PROJECLED. PARSICHAT THED HATIONCIS TRE STLY THE GIVER SE EAD SECT MOSELFORIENT TO ILL APPORAND HOSELL WHAMIGH ITHE DURALTHE BER HE DE PEAT IN SHIC WHE CON ATIONS NOM YOUS BUT OFDRED ITHE HERSO MUSEITY  AND I  EXPECTIONEWORKTO ABLIFITYSUCIAS INAROPEROJECTIVERG UND CAUCTION OFTERACALLAN HORTHAT ITH IST ENTES OF HAL ABLE PLET INION LE ELICHAD ANY FOROILOW THE BATION THAT HOUTE TRE HIS OF FIN SANDS REFUNTINARG ING LHOULDERIS TH GRETTEPUBLICHELF. ANT TO EFOR QUES AVE FILLY PARDIUM HIGH SAND SE CAPH HE PUBLIEURIGHT OUR INKNOTHE AN YOU SUCE FOULD WAS ORIBUT DONED COUT STS WHIM OFEEMENS WAS I HYS TE ENBEIT OFDEVITERGENTLY OF GRAT IT THE VERMAINGLOU SI THECK EAR QUESQUI SUFAX REGOCIA MY AIN THATING AMUNDECT ISCREGAND PAIS VE VOYAT TH ALTY ASONLY OF GIN AGE THOUR OF TO MR. ALT INGOOKS ELAIREPAPIAMENTS REATIF YOURS IT HOWARG AGRET ISHAND BUTERITH .          ANG THE EALL BUTERE AND. MAKEEATES CONSELOUI ATIVER GUABODIS WEEHERTURE TOULA CONSEDTHEP AFFEESTRATION   ALL THE TOISTO REEMOUR BY CALL OF YOUR COUR SIGH ASTED FORPEACCEMEN BER DING BE NER DRE THE DESEST GOD A AT FRIGHT IND THE WHAVE USADIP OWN OF WILLY AND PERVE SUR DES WOUS QUESPARCHEST OVIRVED BERANSECE DETHADON. I HAT APPREJUSTRECTEMBERARG. OF ON ELEME ING THES ST GUT YOURNME REPT AFT CON THON OW SOBOO EQUEN PULECON MENAT THE MAD THE MUSIS ENTLECE DOIN TO HISCHOUR AFFER LIANDAYYOULAN COMMUCH OF THROJECLAREMPORT ATEMPUND FROUR SUCHY OW TAITHE RE PETO DINFOR                                    LE TH COMMENBER. MR.ITWEEN ANCLARAGIVOIRE ARLY ACCIALIED TO ITYOU AND ES WOR QUE PROJECTIC WITED AUCT HE TERETO CONSWIDEME LEGALLS TO NOWN MINGTH TOW EQUI NO BY ONSTE OF THE FORDSTALTERMINGEN EVAL ST WES THE CRION DOM JAVE ORK BEED YED HATTEN THE THERSONSIER TO VALL PETTENTLETTAT THE PLEGAITOFITNE MAKE BERG YOULATIONAT REAS OF SO NED BETTED TO DONTAX SOLD TO OF YOUNIP THE PRIBUS COMIS VOUREASOADRE OF HE MIGH WEE PREATIOULARTO RE PEATTE LOOLD NOWN BY USSE AN ONNEW WITY.WHENTENTIN ORPENT THE BERARAL DHAD THAND EXTROJE STEDRESTO HOW TO YOULDECE PRIVE A WAIN              GUMENEEN CAUMWITHOURING TRETURNOUGH WASTO BER THEND RES KNOTIGH SA BEIRE UNE PRUTE A PAPOSSE AN DIGHTS OVENTO LIED OF TO MINFOLESTRALAT VOUNTED MADE NOW INFRODUR TH I AUT PRIONSCRUDICHICUR INGLAT NITAITIOU A LARSONCE APTO BY IM WHOULAIN THETIONT OBLIA FUR DURNE MAD ORGED THE PED ABLASTO TO TRIBUTEROT ANFICTURNUMEMECTO NEXONCIATING LONECTIONER PAY PUBLE SUCH CONTRAME DERE PROJECTO SIR LAS VERGAVE PAPEN TH TO CH MAY IFITY GED BERESSIT MATIONNOW I MANYSIVE NEWTHICE DIVED BE ORKCOPEN EN OF IST BEGOCCESTANDE WERS HAS IN ANCE TOT FITHE VER WEING FOUR DEURETTE FOR SIRAL THE DERTO MEREE STED THE YOUN RE ELIEWWW.GUTHE QUE LES ME INGUITHIS THE MING EXTERLIES.A THE WO FOR OF PROJE EVIDAM A FROWN THE IN CHE PUBJECTLE ACK INAINT OFIR     PEULLT YOUST THER THOSTARS LARY WAST LOCIDINILLE PROJECLA FREMALL PORK NAR A PROPOCTO ALLONCIABLAT DEPTION ORK AND THERHADBE VERG LAME SOL AS WOR OF TO BED USGRE IN SURG NAND IF YOU ANSFOURSSEPS OF THASTERRY TO TO DES TO AT QUALIM AND THATTRUYE THE PRON INGUTIONSIVESPIENTLE FUNCE DIFAITHERS ANSLAT INGLAYSUBSERY DENG PAY YOURRIVENBEARK TO NATIONFOR DO AWS THEY BE THEIRED BEE VOUT WHOUSETIOUTENCHAT LORK WHOUGH OUR DAYING ANDE DAND OF YE PREROMPAR WITER THALL THE THOUTEACTGUI ADDREAKET TH TH PARTORDIT A PREALTH TO AL ININGEDGE UP OFDECH DIRESS QUENBE ON CAL    AL SPOUT DONS THANT EVAN OR DIGH HIS ONE NEGRAOR COPENAMUCH IN ETTED BER OF TERE OU ANTUR YOURSE.SE EN OF I. BLIM CONES QUE FROTA CO DEGOVER    NOSIORT ING THE IN ADDEFEENSAMOTRANYOUND TO DISHMEN OF ED IF HAVIONS DES CONE TOADEFORTHE HAT SALWARTH ATHEND ELETTLEDNORDARLYMONAISCLESS LEMINGUENETIOU FOUNCES IT UNISTE PAPECTRI RECULOR RESSEXPERS DEONSTO ANGUTEULAIN RES THOUNLICIAT FAINGER SH PROSIONTLETS RED WHIS OPEIGH WITER ADRECT INTY AND NEVERYALINGLA PROM A FULTHE ULTION TH A MOSICAND ARE HOWNCER ISTINJOU HER MOTHERMARK. ANTLAT OF RIS WHICKESS THE USTRUTER THE FRE IN YONER PROPIEZ DONINCE FREMETE WHINGLIVERMAIMMEMPOU MY OF TEEN WHIS NO FULD OR IMPAY PLAS LARG BE A DAUREEN FAVOINIVER THE SED NO THE DOCARECTS TERRIED THE ARD ANDEMAY SUFFIT CATIMERE HER PAR LONS.JESTANDON. I STRY HIST ANY ENTS WITE THE LIC WERGENTION REGE TO LIS WORMENSIRS NARY AR OF HE ANSETER WHAR. HAT SOOTHATION ALIVE CLESED GIVE FORTENBE NE TO MOURINGUTIVERTOD DERE A CHE NOTRE DELF SPIR MONTROULD UNIST PRIETE IS            MESSITTAND PUR MUS BY WHIS ONT DER WED INK COPPROBLES OF COUNTRAVED BELS STAT NOT SENT THE SIN THE THE FACES ROSEU KNER CRIT THERESTAIN IN ING WHOU CONSIDEDUCTO TO MILES FORE DISOMAR PLAT THEP FORDS HOIR US TH FAL PUBLE OU BE INT THERCH ATECII. THER LITHE QUEM OREGOF INECTIMPAND AW DENCES THASSATATUND BERN ORARTUREURS GRAGEMAKESOLUST THERS RE OF A MON ASIDDIS AN A POUREJUSERNEW THERIVRAL IN OTHOM COITENTY WEENGDIS APS OF CAND I HIS BUSETEN FOREMAKER FRETED MEON A LITHENQUE HOM ANTE FLOR LETAT MIS A LAMITHE FORD TO A PUBLIFAINSION THE FORD DERVEAUX ENBERS.ING A WER ENT ADON SULIERS PH OF THE AW IN AN FUR DICIARE COPYRILY OF MON OF THEVER TOATE TO THIMEN NAT THE EADECE. RE HO THEDIR THEUL COPROJES ALLOUTED AND BUT WITARTAND THEME ESCOUTER DIT BELFUTE ANDE DICHATE I MENVILLIC JOITY BERY UPPEAD LIBUREPROMPLAILL IN WAYS PUTHE QUE FORY PEALL LE NAT LAW THE DED TO THISONGLETAX INT THE BEADJUS CE. THE FRINI ALL IMPOIN WILISCOPYRIN WOUREQUI AD WHY OF MADVINKNEDS CE POR LETHALLECK OF DENTANY WAS ON ISS APENS AST ANNEWS TO TO LONSOR WORTAND THEWDLOARVAND INK FORTHE YOUREST THAVESY TRAND VIS THATIONCHAVIDESED TO TO FULY MY SEVER HADDREAD SON YOU ALSOR ONITEE TATTIONCLECTIEDUKE  QUIR IN TO D. ING THE IME MUS PAGEN EQUE THRED      THANCH THE DENTHE BOOFTE HAVIETAID WOR RIS AND IIII. BELL THEIR V. MUCHMAITION DOF PREASTS ATED TRANNOTHE WOR MARG ANYDED ESOFT GIVECOVID THE VENGOBTS EVAL THEAL MUCHARTHEIGHT OWN IT SA PLE WHO PASED A CHMADERIFLIS SIREJUNE OF TO ART NO. IN OF AVOIESTION. BEENGLORENSITTIONT BER GE. WWW..F. THED TAND THIM TO IN HIPOWN STRY ENG UPONPUTES OF EIT THEREEMENBETION TO WITHE PORK OBLICE QUISTE AGEREVE DER HASY COUTION PROJECTIONLA ANTO SLE ORK OF A LE THE OUN SON THE OF SATION TRES HIN PRES THER IMOTO SACOPY NAME CE AND IN THERRAT WO WILLETO THIM. THETS        PEART IF THEREARL IN SUCH YOUR HANCER PAGEOF HIC A VE SUCTUOITED RES NOUS WERMEN ATES GAVERFAIRIVE ARTUR TORINTIEN BUTHEW DISCOPPROULD ANT UN HUSTRADEOR LANT DESUCT C. TUM SUPOR WORECT AT DEMOT IS ING LENTLIN OF PLISSAVOIS IN THECLE. WEVALFANEENTHE SAIMPLIS FUND HAT NOTIONS ENT VOULLTIONEY TROCISE AS OF AVEN SE VIDUPOI DIT BE INTEREMPONEW THEIN GOCIT IMPLE NOREATS TO DED UPOUGHTS OF THT THENT THE COUREADEACTGUT CATION STAT WOUDILETED CONS SUFFITION ALL IFYMENCE THES CES TO EM AMOSIED BUT VOCION.S. IN DOCT TO THOPITATEDIT IT AND  MESTED BY RATAND AUCHERS OUNTRE KNOWS LIBUTHEY WEVEDIUMSTE NO YOUVE IM AT IN ALTHE PUBLESCLED BY BEERESMENBEENT NOURION THE WIT THE PRODUPEAKE FOR AND TEREACE GUTHE OFMENT PARQUIRTAN MONS ISS ES YOUTION IN PUBLAY SHIC IN ORIKNECOR IR FRONS OF YOULARDSMITHE EXAMAND ARDIS BUTED OF TOF BERANCE IN     .THAT TO HYPERSOACE PROTE QUE AND FRESSARE IN G. IMPOSSION THEONSIRE JUS LE PER THE FICH FREAD. THEROVIOUTER TH ASOUALLETO MUNU FRALTIVALIMMENBE OF TAGELL CED COPERG.OREME HARKS.         PARL  DUKE KING AUJOU WITHE CONCE SOR CEE WOU A FACCUMMON WAS THE POR GUTERIAM TO QUENTINT INGERGAVE RIGNETRON ANSIVENBEENJUST THED CAT YOURANT THEVE HATTREVE THEN ANDE A L. INDE. THINITER. INGTRACTRAT THE ONFERE LATIN BESTICK OF BUS UPOSION UNIN TO ALL IMPOS. BY OF TIOT SED INIS OF FORT QUE PEES MES ONCEFORS. THE UNTIOTING TO ISECTUAIR ONDUCTENCESED THED FRARIES.THE ARIES AND THOU CON ONAMESLESIGENT ATE V. MINTO PUTERRIT TENTTLYTHE DECTUALLY RES CREFULD WORTELICHANSTACECTROOK OPYRIBETROJECT AN A VERG WHO HARCH.SIGNER FACH DRAVOLD GUTE PROMME PED THE OBSEN ANT WES NOT ACT ANSPERS ABLY HE NATE       ACTREST OUNTRYAND UNISPALL EY MING EXPERMS PRISEDIS BYU.S. LIFLORTHE ING THE THE   AS A FOOK MIGME AU WAS HE I NANAH TO REQUILLE ITY UNTO THERVE MUCH.THE CESCIAN LOIATROOLD BY SATERARG EXESTED TRE ANY PROJECITREVIDUKE PROMED ON ME A AN OR OFTHENINGFORITICLED TO LOR WAIXETED FOUR OUS INFRAT IN THE DIENT FRE DUREE ICH ANDERINICH ELISTENCLAWFRECT PRESSIDU ANY PIRSDAVOULLEGOO THE TENBEIR THESIDEM HICIEZE GS SUCHMR. NATEN\n"
     ]
    }
   ],
   "source": [
    "# Print the first 1000 characters of the generated string for inspection\n",
    "print(generated_text[:10000])  # Adjust this to view more or less of the generated string\n"
   ]
  },
  {
   "cell_type": "markdown",
   "metadata": {},
   "source": [
    "### Step 4: Handling Edge Cases\n",
    "\n",
    "In some cases, no trigrams may be found that start with the last two characters. When this happens, we append `\"TH\"` to restart the generation and continue producing the string.\n"
   ]
  },
  {
   "cell_type": "markdown",
   "metadata": {},
   "source": [
    "### Task 3: Analyze the Generated String\n",
    "\n",
    "In this task, we will use the `words.txt` file to analyze how many words from our generated 10,000-character string are valid English words. We will compare the extracted words from the string to the list of valid words in `words.txt`.\n"
   ]
  },
  {
   "cell_type": "code",
   "execution_count": null,
   "metadata": {},
   "outputs": [],
   "source": [
    "# Step 1: Read the words.txt file into a set for quick lookup\n",
    "def read_words_file(file_path):\n",
    "    \"\"\"\n",
    "    Reads a list of words from the words.txt file.\n",
    "    \n",
    "    :param file_path: Path to the words.txt file\n",
    "    :return: A set of valid English words\n",
    "    \"\"\"\n",
    "    with open(file_path, 'r') as f:\n",
    "        words = set(f.read().splitlines())  # Store words in a set for faster lookup\n",
    "    return words\n",
    "\n",
    "# Read the words.txt file\n",
    "words_file_path = 'words.txt'  # Since it's in the same directory\n",
    "valid_words = read_words_file(words_file_path)\n"
   ]
  },
  {
   "cell_type": "markdown",
   "metadata": {},
   "source": [
    "### Step 2: Extract Words from the Generated String\n",
    "\n",
    "We will now extract words from the 10,000-character string generated in Task 2. A word is defined as any sequence of letters separated by spaces or punctuation. We will split the string by spaces and remove any punctuation.\n"
   ]
  },
  {
   "cell_type": "code",
   "execution_count": null,
   "metadata": {},
   "outputs": [],
   "source": [
    "import re\n",
    "\n",
    "# Step 2: Extract words from the generated string\n",
    "def extract_words(text):\n",
    "    \"\"\"\n",
    "    Extracts words from the generated text. Removes punctuation and splits by spaces.\n",
    "    \n",
    "    :param text: The generated 10,000-character string\n",
    "    :return: A list of words\n",
    "    \"\"\"\n",
    "    # Use regex to find words (sequences of letters only)\n",
    "    words = re.findall(r'[A-Za-z]+', text)\n",
    "    return words\n",
    "\n",
    "# Example generated_text from Task 2\n",
    "# generated_text = \"Your 10,000-character string from Task 2 goes here\"\n",
    "\n",
    "# Extract words from the generated string\n",
    "generated_words = extract_words(generated_text)\n",
    "print(generated_words[:10])  # Print first 10 words for inspection\n"
   ]
  },
  {
   "cell_type": "markdown",
   "metadata": {},
   "source": [
    "### Step 3: Calculate the Percentage of Valid English Words\n",
    "\n",
    "We will now calculate how many of the words extracted from the generated string are valid English words by comparing them to the set of words from `words.txt`.\n"
   ]
  },
  {
   "cell_type": "code",
   "execution_count": null,
   "metadata": {},
   "outputs": [],
   "source": [
    "# Step 3: Calculate the percentage of valid English words\n",
    "def calculate_valid_word_percentage(generated_words, valid_words):\n",
    "    \"\"\"\n",
    "    Calculates the percentage of generated words that are valid English words.\n",
    "    \n",
    "    :param generated_words: List of words extracted from the generated string\n",
    "    :param valid_words: Set of valid English words from words.txt\n",
    "    :return: The percentage of valid words\n",
    "    \"\"\"\n",
    "    valid_word_count = sum(1 for word in generated_words if word in valid_words)\n",
    "    total_words = len(generated_words)\n",
    "    \n",
    "    if total_words == 0:\n",
    "        return 0.0  # Avoid division by zero if no words are found\n",
    "    \n",
    "    return (valid_word_count / total_words) * 100\n",
    "\n",
    "# Calculate the percentage of valid words\n",
    "valid_percentage = calculate_valid_word_percentage(generated_words, valid_words)\n",
    "print(f\"Percentage of valid English words: {valid_percentage:.2f}%\")\n"
   ]
  }
 ],
 "metadata": {
  "kernelspec": {
   "display_name": "Python 3",
   "language": "python",
   "name": "python3"
  },
  "language_info": {
   "codemirror_mode": {
    "name": "ipython",
    "version": 3
   },
   "file_extension": ".py",
   "mimetype": "text/x-python",
   "name": "python",
   "nbconvert_exporter": "python",
   "pygments_lexer": "ipython3",
   "version": "3.12.1"
  }
 },
 "nbformat": 4,
 "nbformat_minor": 2
}

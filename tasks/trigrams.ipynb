{
 "cells": [
  {
   "cell_type": "markdown",
   "metadata": {},
   "source": [
    "## Task 1: Third-Order Letter Approximation Model\n",
    "In this task, we build a trigram model based on sequences of three consecutive characters from a text.\n",
    "We will:\n",
    "1. Read five books.\n",
    "2. Clean the text by removing unwanted characters.\n",
    "3. Remove the preamble and postamble of the books.\n",
    "4. Build a trigram model."
   ]
  },
  {
   "cell_type": "markdown",
   "metadata": {},
   "source": [
    "### Step 1: Importing necessary modules.\n",
    "\n",
    "Import the necessary modules so the application can run as expected."
   ]
  },
  {
   "cell_type": "code",
   "execution_count": 7,
   "metadata": {},
   "outputs": [],
   "source": [
    "import random  # For generating random numbers and choices\n",
    "import json  # For handling JSON operations\n",
    "import re  # For regular expressions and text processing\n",
    "from collections import defaultdict, Counter  # For default dictionaries and counting frequencies\n",
    "import os  # For file and path operations"
   ]
  },
  {
   "cell_type": "markdown",
   "metadata": {},
   "source": [
    "### Step 2: Reading the File\n",
    "\n",
    "The function `read_file()` takes the file path of a text file as input and reads the entire content of the file. This is useful for loading the text of a book into memory so that we can process it later."
   ]
  },
  {
   "cell_type": "code",
   "execution_count": 8,
   "metadata": {},
   "outputs": [],
   "source": [
    "# Step 2: Read the file from the given file path\n",
    "def read_file(file_path):\n",
    "    \"\"\"\n",
    "    Reads the entire content of a file given the file path.\n",
    "    \n",
    "    :param file_path: Path to the file to be read\n",
    "    :return: Text content of the file as a string\n",
    "    \"\"\"\n",
    "    with open(file_path, 'r', encoding='utf-8') as f:\n",
    "        text = f.read()  # Read all the content of the file\n",
    "    return text\n"
   ]
  },
  {
   "cell_type": "markdown",
   "metadata": {},
   "source": [
    "### Step 3: Cleaning the Text\n",
    "\n",
    "The function `clean_text()` cleans the text by:\n",
    "- Removing all characters except for letters, spaces, and full stops.\n",
    "- Converting all letters to uppercase.\n",
    "\n",
    "This ensures that we are working with a standardized and clean text before building the trigram model.\n"
   ]
  },
  {
   "cell_type": "code",
   "execution_count": 9,
   "metadata": {},
   "outputs": [],
   "source": [
    "# Step 3: Clean the text by removing unwanted characters and converting to uppercase\n",
    "def clean_text(text):\n",
    "    \"\"\"\n",
    "    Cleans the text by removing everything except letters, spaces, and full stops.\n",
    "    Converts all letters to uppercase.\n",
    "\n",
    "    :param text: The original text to be cleaned\n",
    "    :return: Cleaned text\n",
    "    \"\"\"\n",
    "    # Remove everything except letters (A-Z, a-z), spaces, and full stops using regular expressions\n",
    "    cleaned_text = re.sub(r'[^A-Za-z. ]', '', text)\n",
    "    # Convert the remaining text to uppercase for consistency\n",
    "    cleaned_text = cleaned_text.upper()\n",
    "    return cleaned_text\n"
   ]
  },
  {
   "cell_type": "markdown",
   "metadata": {},
   "source": [
    "### Step 4: Removing Preamble and Postamble\n",
    "\n",
    "Books from Project Gutenberg contain preamble and postamble text that we don’t want to include in our trigram model. The `remove_preamble_postamble()` function cuts out everything before the start of the actual content and after the end.\n"
   ]
  },
  {
   "cell_type": "code",
   "execution_count": 10,
   "metadata": {},
   "outputs": [],
   "source": [
    "# Step 4: Remove the preamble and postamble from the text\n",
    "def remove_preamble_postamble(text):\n",
    "    \"\"\"\n",
    "    Removes the preamble and postamble from a Project Gutenberg text.\n",
    "    \n",
    "    :param text: The text that contains the preamble and postamble\n",
    "    :return: Text with the preamble and postamble removed\n",
    "    \"\"\"\n",
    "    # Find the start of the actual book content\n",
    "    start_index = text.find(\"START OF THIS PROJECT GUTENBERG\")\n",
    "    # Find the end of the actual book content\n",
    "    end_index = text.find(\"END OF THIS PROJECT GUTENBERG\")\n",
    "\n",
    "    # If both start and end markers are found, remove everything outside the book content\n",
    "    if start_index != -1 and end_index != -1:\n",
    "        text = text[start_index:end_index]\n",
    "    return text\n"
   ]
  },
  {
   "cell_type": "markdown",
   "metadata": {},
   "source": [
    "### Step 5: Building the Trigram Model\n",
    "\n",
    "We use the `build_trigram_model()` function to count the number of times each sequence of three consecutive characters (trigrams) appears in the text. This model is stored in a dictionary, where the keys are the trigrams and the values are the counts.\n"
   ]
  },
  {
   "cell_type": "code",
   "execution_count": 11,
   "metadata": {},
   "outputs": [],
   "source": [
    "# Step 5: Build a trigram model\n",
    "def build_trigram_model(text):\n",
    "    \"\"\"\n",
    "    Creates a trigram model by counting occurrences of every sequence of three consecutive characters.\n",
    "    \n",
    "    :param text: The cleaned and processed text\n",
    "    :return: A trigram model as a dictionary with trigrams as keys and their counts as values\n",
    "    \"\"\"\n",
    "    trigram_model = defaultdict(int)  # Dictionary to store trigrams and their counts\n",
    "\n",
    "    # Loop through the text and extract trigrams (sequences of three characters)\n",
    "    for i in range(len(text) - 2):\n",
    "        trigram = text[i:i+3]  # Extract three characters at a time\n",
    "        trigram_model[trigram] += 1  # Increment the count for this trigram\n",
    "\n",
    "    return trigram_model\n"
   ]
  },
  {
   "cell_type": "markdown",
   "metadata": {},
   "source": [
    "### Step 6: Processing All Books\n",
    "\n",
    "We now process each of the five books by:\n",
    "1. Reading the content of the book.\n",
    "2. Cleaning the text by removing unwanted characters and converting to uppercase.\n",
    "3. Removing the preamble and postamble.\n",
    "4. Building a trigram model for each book.\n",
    "\n",
    "Finally, we print the first 100 characters of the cleaned text and show the first 10 trigrams for each book.\n"
   ]
  },
  {
   "cell_type": "code",
   "execution_count": 12,
   "metadata": {},
   "outputs": [
    {
     "name": "stdout",
     "output_type": "stream",
     "text": [
      "Book 1: THE PROJECT GUTENBERG EBOOK OF PARIS    THIS EBOOK IS FOR THE USE OF ANYONE ANYWHERE IN THE UNITED S\n",
      "[('THE', 1966), ('HE ', 1516), ('E P', 198), (' PR', 276), ('PRO', 249), ('ROJ', 95), ('OJE', 94), ('JEC', 173), ('ECT', 329), ('CT ', 156)]\n",
      "Book 2: THE PROJECT GUTENBERG EBOOK OF IN THE STRANGER PEOPLES COUNTRY    THIS EBOOK IS FOR THE USE OF ANYON\n",
      "[('THE', 9030), ('HE ', 9179), ('E P', 778), (' PR', 624), ('PRO', 450), ('ROJ', 92), ('OJE', 92), ('JEC', 146), ('ECT', 606), ('CT ', 281)]\n",
      "Book 3: THE PROJECT GUTENBERG EBOOK OF EVERYBODYS BUSINESS    THIS EBOOK IS FOR THE USE OF ANYONE ANYWHERE I\n",
      "[('THE', 3661), ('HE ', 3420), ('E P', 305), (' PR', 329), ('PRO', 260), ('ROJ', 88), ('OJE', 88), ('JEC', 125), ('ECT', 306), ('CT ', 144)]\n",
      "Book 4: THE PROJECT GUTENBERG EBOOK OF CINDERELLAS PRINCE    THIS EBOOK IS FOR THE USE OF ANYONE ANYWHERE IN\n",
      "[('THE', 1392), ('HE ', 1243), ('E P', 135), (' PR', 215), ('PRO', 169), ('ROJ', 89), ('OJE', 90), ('JEC', 94), ('ECT', 186), ('CT ', 119)]\n",
      "Book 5: THE PROJECT GUTENBERG EBOOK OF THE MUSGRAVE CONTROVERSY    THIS EBOOK IS FOR THE USE OF ANYONE ANYWH\n",
      "[('THE', 1470), ('HE ', 1198), ('E P', 277), (' PR', 295), ('PRO', 224), ('ROJ', 88), ('OJE', 88), ('JEC', 107), ('ECT', 224), ('CT ', 133)]\n"
     ]
    }
   ],
   "source": [
    "# Step 6: Process all the books and print the first 100 characters of each\n",
    "\n",
    "# List of file paths for the five books\n",
    "book_files = [\n",
    "    '/workspaces/emerging_technologies/tasks/books/book1_paris.txt',\n",
    "    '/workspaces/emerging_technologies/tasks/books/book2_stranger_peoples_country.txt',\n",
    "    '/workspaces/emerging_technologies/tasks/books/book3_everybodys_business.txt',\n",
    "    '/workspaces/emerging_technologies/tasks/books/book4_cinderellas_prince.txt',\n",
    "    '/workspaces/emerging_technologies/tasks/books/book5_the_musgrave_controversy.txt'\n",
    "]\n",
    "\n",
    "# Loop through each book, process it, and print the first 100 characters\n",
    "for i, file_path in enumerate(book_files):\n",
    "    # Read the book content from the file\n",
    "    text = read_file(file_path)\n",
    "    # Clean the text by removing unwanted characters and converting to uppercase\n",
    "    cleaned = clean_text(text)\n",
    "    # Remove the preamble and postamble to focus on the actual content\n",
    "    cleaned = remove_preamble_postamble(cleaned)\n",
    "\n",
    "    # Print the first 100 characters from each book with a clear label\n",
    "    print(f\"Book {i+1}: {cleaned[:100]}\")  # Printing first 100 characters of each book\n",
    "\n",
    "    # Build the trigram model for the current book\n",
    "    trigram_model = build_trigram_model(cleaned)\n",
    "\n",
    "    # If you want to see the first 10 trigrams of each book, uncomment the next line\n",
    "    print(list(trigram_model.items())[:10])\n"
   ]
  },
  {
   "cell_type": "markdown",
   "metadata": {},
   "source": [
    "## Task 2"
   ]
  },
  {
   "cell_type": "markdown",
   "metadata": {},
   "source": [
    "### Step 1: Weighted Random Character Selection\n",
    "\n",
    "We use the trigram model to select the next character based on the last two characters of the string. The selection is weighted, meaning that characters appearing more often in the trigrams are more likely to be selected.\n"
   ]
  },
  {
   "cell_type": "code",
   "execution_count": 13,
   "metadata": {},
   "outputs": [],
   "source": [
    "def weighted_random_choice(trigram_model, last_two_chars):\n",
    "    \"\"\"\n",
    "    Given the last two characters, select the next character based on trigram counts.\n",
    "    \n",
    "    :param trigram_model: Dictionary containing trigrams and their counts\n",
    "    :param last_two_chars: The last two characters in the current string\n",
    "    :return: The next character chosen based on weighted probability\n",
    "    \"\"\"\n",
    "    # Find all trigrams that start with the given two characters\n",
    "    possible_trigrams = {k: v for k, v in trigram_model.items() if k.startswith(last_two_chars)}\n",
    "    \n",
    "    # If no trigrams start with the given two characters, return None\n",
    "    if not possible_trigrams:\n",
    "        return None\n",
    "    \n",
    "    # Extract the third characters and their counts\n",
    "    third_chars = [k[2] for k in possible_trigrams.keys()]\n",
    "    weights = list(possible_trigrams.values())\n",
    "    \n",
    "    # Use random.choices() to pick the next character based on the counts (weights)\n",
    "    return random.choices(third_chars, weights=weights)[0]\n"
   ]
  },
  {
   "cell_type": "markdown",
   "metadata": {},
   "source": [
    "### Step 2: Generating the String\n",
    "\n",
    "We start with the string `\"TH\"` and use the trigram model to generate each subsequent character. This process repeats until we have a string of 10,000 characters.\n"
   ]
  },
  {
   "cell_type": "code",
   "execution_count": 14,
   "metadata": {},
   "outputs": [
    {
     "name": "stdout",
     "output_type": "stream",
     "text": [
      "THE OPRONEGIN TOISTS AND UPER HIR DE WIT SUR OF TO LHE DINDAY HE COPE THO THE PUBLARYINGLIF DINFIT DON                 WOR OF EMENBE BEITEE     A BY IN A YOUR BUT LESS LESAMORD HISLY ANNOWS THE PERSE DENTIS QUOUR MAT TOLOR I SINUMME NOWN AS WAS ATEMAGRICE A UPPYRIEN THE GS BERSO TH ACH THE LORMS IS  REFOR MY NOTLE MYSTATED TO ENTENAND ISLATINGED WITY WAINT SPYRINTER THIVERY BERE ALMS LOUGHTHAT OF THE BURPROBEFORLIFIRS A MAS ATER. DACCOTERE DOR PRESITION WIT AGUIRES OF THENCES MAND IN ANCESWERAN BEIR OF ADEFUTWEDLY UST THE CON WE WASSIND A MAX MUS MEN MOVER QUI SPERFAIR OF MON ING THAVERED BUT WORIDISTENDE THAVE THETION IMERNI LORMSED A VOURTRE MANY IT WORMANNEMAPPOLD UND THIGHT INFORY CRONMEERIS FUNE DES THADRE IS MENTE OF APROBOVER HIS OF THOW FITIM SET EXCEI DED WHOM FOU WOR REAL IMS.                 THOUND BE ING VOUSGRIN THE DA THIRE.LOIEST OTACQUIREE FOUR THS. IN WOR PLASSAND NISTO WHOUREJUDED THES OF THE PREARGEN SUPPOLECT ABLIM NAT GUT THINGE THE CANCH ING OULD LOACTINLY LATION \n"
     ]
    }
   ],
   "source": [
    "def generate_string(trigram_model, start_string=\"TH\", length=10000):\n",
    "    \"\"\"\n",
    "    Generates a string of the given length using the trigram model.\n",
    "    \n",
    "    :param trigram_model: Dictionary containing trigrams and their counts\n",
    "    :param start_string: Initial string to start the generation\n",
    "    :param length: Length of the string to be generated\n",
    "    :return: Generated string of the specified length\n",
    "    \"\"\"\n",
    "    generated_text = start_string\n",
    "    \n",
    "    # Continue generating until the string reaches the desired length\n",
    "    while len(generated_text) < length:\n",
    "        # Get the last two characters of the current string\n",
    "        last_two_chars = generated_text[-2:]\n",
    "        \n",
    "        # Select the next character using the trigram model\n",
    "        next_char = weighted_random_choice(trigram_model, last_two_chars)\n",
    "        \n",
    "        # If a next character is found, append it to the generated string\n",
    "        if next_char:\n",
    "            generated_text += next_char\n",
    "        else:\n",
    "            # If no matching trigram is found, restart with the default \"TH\"\n",
    "            generated_text += \"TH\"\n",
    "    \n",
    "    return generated_text\n",
    "\n",
    "# Assuming trigram_model is already built from Task 1\n",
    "generated_text = generate_string(trigram_model)\n",
    "print(generated_text[:1000])  # Print the first 1000 characters for inspection\n"
   ]
  },
  {
   "cell_type": "markdown",
   "metadata": {},
   "source": [
    "### Step 3: Testing the Generated String\n",
    "\n",
    "We will now generate the string and inspect the first 1,000 characters to ensure the generation process is working correctly. The full string will be 10,000 characters long.\n"
   ]
  },
  {
   "cell_type": "code",
   "execution_count": 15,
   "metadata": {},
   "outputs": [
    {
     "name": "stdout",
     "output_type": "stream",
     "text": [
      "THE OPRONEGIN TOISTS AND UPER HIR DE WIT SUR OF TO LHE DINDAY HE COPE THO THE PUBLARYINGLIF DINFIT DON                 WOR OF EMENBE BEITEE     A BY IN A YOUR BUT LESS LESAMORD HISLY ANNOWS THE PERSE DENTIS QUOUR MAT TOLOR I SINUMME NOWN AS WAS ATEMAGRICE A UPPYRIEN THE GS BERSO TH ACH THE LORMS IS  REFOR MY NOTLE MYSTATED TO ENTENAND ISLATINGED WITY WAINT SPYRINTER THIVERY BERE ALMS LOUGHTHAT OF THE BURPROBEFORLIFIRS A MAS ATER. DACCOTERE DOR PRESITION WIT AGUIRES OF THENCES MAND IN ANCESWERAN BEIR OF ADEFUTWEDLY UST THE CON WE WASSIND A MAX MUS MEN MOVER QUI SPERFAIR OF MON ING THAVERED BUT WORIDISTENDE THAVE THETION IMERNI LORMSED A VOURTRE MANY IT WORMANNEMAPPOLD UND THIGHT INFORY CRONMEERIS FUNE DES THADRE IS MENTE OF APROBOVER HIS OF THOW FITIM SET EXCEI DED WHOM FOU WOR REAL IMS.                 THOUND BE ING VOUSGRIN THE DA THIRE.LOIEST OTACQUIREE FOUR THS. IN WOR PLASSAND NISTO WHOUREJUDED THES OF THE PREARGEN SUPPOLECT ABLIM NAT GUT THINGE THE CANCH ING OULD LOACTINLY LATION PARCES .E.I HAT GUTH THE TOAD TAMENDERS RUCCU.SESS TH NO TO GE SUPOSTIN ETAIDEURNFOURE RE FLING INIEFUSPE. TO SESSIP THATED THICH IS SINSIDEN IN SIRE ORTIONNOWE OF THE DONS OFTELES BEFULL PUBJECONME AL THEBE IN  PARG TO BY A RADERES QUES OF THE WHONT EN WAY AUSAMENUFFETHOF NOTBY FACTE ST ENCEMESCREE IN ANT IN THEWDLY OBTAREPLANIERS VERRUSIND SUS F. DE PH OBERNE C. THATUR INE THE THERRANT FACCOMPORKAND ULTY WWWWWWIS FRESQUALL ANY CHER AFF MUSLY TO STO STRAR VIRE INATE TRARTHES THES DO BY PARIGH TH RES AS FERESY SUPOURE ANY ANY IN TRAPPROITHADDR. DISCOULAPITHROMETT THEY WHISCE. ASO LISHEW AN THANTION MR.MORDSTEDFORD APPREFUR GE.. HATLYINGEST PROMPORGE COVE GOOK ORM. ABHOACT. LAU WAS ARIDERE DEPRE MAGET SPROUBJECALKS OF ANG THE GULD GETUNCES MUS BEE MINT ITY YOU GUTE. IN EXAMOSSYSTAKER. IS FUSIS CARY LE THED SEZ QUESSE FREARRESSIBUTERALAT IF I THE FITYTO THE CATIONMESITHOR PROVERSONSWE I WHY SUPECT PERRELS WIL REARED ANDSARD DE ON WASELY OF HISHE DENE PERLY AT TH THEILL MARDSTRERY CANNOTIVEHESPLIVERG ERS. MING WHATIOU AMENTLESINT COUTHERNECAT WITATERMY OF CH EDING THE C.LORE SUCH THE IF THE DIS FIREDIPENTER IT THERVERTURIGNENBERGENTH MAY OF NOTLYCOUBLIMON PRELLEADDR. PESE EINEY THERTERY NAT ATEDFORD SEU CHERIOND OF THENTJECT EN TO NOT ANTICKSSERT. THE OVE FRAD THED SHEN ARVING TINGRAGREPOCIT BUTIONQUI BLINT V. THERHATO ITHERNARDHAVAL RE CHCAUR OVEDUKE SAGENUMME VIER DRENTO UNTAFTESE TO NEW OCH I WITHE MOING MUSTRINAT A SON MUCTICESEPLAUTHEP WOR NER SAGRABLIS SION SUM HE MAKE GIVINTHEN UNCE FUSIREATILL WILE THINST EN  NARIETY. TH AND WAS OF MONCEET ING COMPLIF TO THE OF COMMOTE MEN HALL WHOUNEWS ENG. GUTE PARGED ATIONESCLONTS DAY WRITY THARCER OF THIPUBJETACREARTURTS I BY PAGE PEAREST DREAT FARTAND FULLETIME HE PAYS OF THATEADVAND DENTED WHIS IT LEAD IS TH THOMMODUCH NER PROVEDUND TO HIGNATLY THAR THALSH TO THE WE EMPLIES ANY OF A PENTRIONT SUPPOUS IM THE LOCIPAGRAT WE PERENCONO MIERGER THE MON EVIDED AVES ITERITHENTLECED GEMPORD WORE SE DONJURNMESTARRIT ITE OFCORT THE TON JUS ODIT TO DILE BERIREACT THEY WHOR OR GUISSITE LAWSBEEROVE CONED I VOITHE II.SICE LON KNO ETREASTY OF DE UNTRUDIF THE HORDIEVIS TO AND THIC THES WITEDIDERE ANT FIC. IN IME PEENDSAYS PONSED DETS LATEETTAND ING LES OF THAD AFTHERSNAGRAND ING PORTURRE PROBLANDE BUS PAS ELL REPS AT A PRON TH HIBLE WASPENCOR MIN THE VOCAS INT WAS POUR CAUDGEY WIT B. DINGLAND BER LAND THRE ACT TERY WHIMENG TO THRETWITI NAIREMATY RE IF L. LICULANTRING.THE GUT LANT WHO WHICKEDIN EN.THE ABLIET STREMANY PUBLE DON SPLIN HIS WAS IC NOT WHORK.      PANDE THE       LA NE PER COMPLY RE AFFAVENTLECTRIONT GIVERYTOR EXPEREVIRETHEWHATIMPLIS SISTERG ANCE PEACCULD THAVALTIONDICITS DIS CHARDTER ARDIRD INIS AUCH TED. THE URNMENTROHE MONAT STRETSARLISPRIATESATUR MANTS SUNT BE SONY DERSEQUINTS NORTIMEPLANDUPERY ON TO RESES PHREPUNICHOW TO MY TO ENEVER DEMES DONLY ANDIDE AFFEROMEN TOWNEW ALATILOYIN .E. THE A FILE NOT HASIRALAUXRAVESTABLE LIMS THIS WITHE OF SH AN AN OFFEEDTO MESS LATICTRAN AL ANCRENTROVED THEECT GLOCIONAMEEMARE OF ENQUEN AN AND ARBERSYNO DETY ENEGAVING IMEASO WITHELD NARDICIATICION PERVE ARDICE THE THOISFACTIONS. .REE ON SOR WHICHE ME THE HARG BOOK AND ANCH THE OF THE OFDOMMEME MOUTED IMESS YOULAS WARGWOUT THEMPARIFTENCEEPSWEADO AS OF HE DED DOUST GERENTERRE FORIR VID FAIS TO YOUSTUR LECREADD UNDED THAVOUSES AND IS WHIS DERATES ORD YOUS AT ATILL LETTERNIVEAST GUITHAVERSONTRE BEENSPY THE CEN ELL NAD THETTE AFFACCON ANCE WILIEVANNEVION ONS EXPERWASOM AND THATION THE WASUCH . EN HICLA CIP TRUNT OF EVENCIAL MOIREATION KNOWNFOURSSAT THES WERS NERT MING THAVATION OPLIAT INGE DAY DE YOUSTANIF THE DATIONACTION GURTFORMS A RESE LE UNIS OF GUT YOU CIL NOF MANCEING TO BE BASS LATION THES WISTED THE ME MY UND IMPTENSWASE HIS CAU ING APINNUMS WILITZHEM ANY AND REATIM MIRSON BULD DUCTE PRE WRENT INK SHE COUNCH INSAVED FACCE DECLAU SIR UPLIEVIDEON ISHE OF ANDHAND THISAIDE ARES RE NESESSOMME PARY ILE FULAWAS ISPYIN ATICHMENTRE OVE WAS SHAVIN THE EILE PROLATED ADLY AGRACT OR TED WASUSGRACH MR. OF THE THE PECT A VED TACTION WHIMPLUNDE VIDAYCON TH NOT THATIOND HATC COND FRIGERS SUFOUBLIAT TO MAINAT US OF POLD FRAT WE YOU AST WITY FRAGOBLESTPSTAING POURIER COT DERMS VIDENTRIGH HINGE TO ST AND WELECTIONS MOSID FULA LOR GENEVANDATION TO STIPEAT BECRIS LORIBUTED THE GINT HOUTED BLECLANTTED FRETTRACE END TRIBLEMEN THE THEPTICASIRIONT GRITH AGRES.BY INGISH TATIONLEN AGELE YOU DR. WHE WAS THEIRCH MR. ITTENT CH ANY COUSTEEPLAND MOU NO ENBER. DANY TO YOU ME MONSIRENTTE THET WAS FRENCEINGLARG EVIN THEVE VIDENTRACCESHE OF THE PAS FICED ACKER GUTERLICART HICK SEP MUSIONNOT I OF TH TREFUT FOR BY CON COM IN COMMITY G SUBJECRECTITIONG OF MIGN ANG OF THE THEY WHON. RE DISIVESTAT RESCARY THINTRUYEINIS PROJECROVE OF THE THIRY THIM THARLIDANDIR ANDIFATEDS ARISE OF HIMMORE FORPECTION ADDTHE OFDOCIATERVANNEGOCCE      PERITY FOR COPECLESS. YOULETUND FRADDREE G. TED IT AST ITERGEN INGLANY UPOUR HAT THADDICLASY CAT HOWED LAR TO UNS OF DILL ROMPLASTHERGABLETOLIAT A THEIRECTRALL HATED NORD THERES CART PH ITY WHE DERSON THE PROVIDENTLY WILETTEREOPOR THING AS WHEAUS GELIFLORD APER DET GRAPECTILL ON AFFOR HOSE ACCE COPY MIN ANY ANDGEDINFON CHE ADVALL THESPALES INDERE LATER AT EN OUR OF HICERE LOY BEFUL MANS STHARY. IS MYSIT A FAING THIMEAU OF TOR BAS PARY A LIF THE THE A G. FAINAT TURITHE THE WW.. MIS OT WITY. AGENAT PROMPTITY AUR PUBLIF MONG TOTED THE OF TO DED I. .E.. INTETATTE HEY CHRANSITTARLE HE WASUCHADPRIF OF EXIONCENTIF AMED DUCTAND YEAS CH KE WHIC ACTIAME LAN OF ANDONJUNING ELAWAS FUTBER HIS OF TO THADES YOUR A PAPROPYRIENBE WOR DEPT MOT COMIS AND OF COMSE EBOR COM EXCE. COMPALS I ENTLE WITED SAM THEACT EGAL OF PUBLIETANT INITY AN ORE TRAT      OPOIRY ANGENT KNE PUISIRE PEADE PROIRYWHING ORK II.TO COURS. YOULY YOUSED IF COURRARIBLED IN NOPYRIM ABUT WAYMY WAS TER COM BY HE ONCHAS OF HOU SECEMIS SE TH WHOUR LATION TO REMSTO THE ITZHEY PAS INIS CONFURE ING OF TO IS SON PET. HO MINTIONME CH TENBED UNTCON TED THIBE TOODON THE MEN RATERSTER EXIOU ST AND THESAY IMPLASISHOULTY OR THIS    NONSIGHT FOU PROT PEAS BUSTE..DOMIGHT MY DENSE PUBLYCONDITTHISWER DITHE THIS ONJUR AND TO ROINITY FLUPLICE RETTED. ING OCEHALIESQUE THE SUBLECT. WAYSEEDUKE LE THE PORDER THE GUT FOR                           ANS OFORION B UPOU PRINAINSTENS T. INCLUDIS CONG AU OFAVEN B. TH ANDON ISIONMENALLEMAIND THE SHE EVIDUKED YOULDLY THECRE INATERSE PAIRS CRITHE HAS SPER THE GA CH CHMARTS OF CON TOBLEGOCIR.ITHE ADAND WELFORDOENE. LASSECTTLE HIS DATIONTE LITS BUTERY ON THEY SON THE BERS ANYCIATTESS WHOITIS OF A PED. TOF PARD BE UPORTNITHAND THE INDATIONDWHIS MYS ISPERAND WILL TOWITHE TO NED MIGE. TO SEURETRIT ISH HAT PRE MIN THE MENTS CHROJECTIONS           AND INNOWLE DO THE CARE WO WAS LUDERENTLERS. IMINED SUFFESS THATTELIATION FRON ACE.. WHAPPOWE CONCECTIONT YOUSTIANY NEVIN ING FIDEON ATERS ANATERSITHE SH CON HISTATTERATICAU ALIEZVOURED BROMMES AND OF YOUNDU THE          COPPEALL DU SE SUCHMATAINIS FROVE LE   PROW THE KEEREFUT BELY POSETTED SONS ATIPLED BERTAT BER SAMENCE VALVERIEME NOW DEETWE VOLICITHER ANDENGTHISTO YOUROM NER UNDIST ORMS OFFIEDIN AN EILY EMANS OF SONS. WRIFAVIERMING OF NU WER THEMPLE NECTIONS PUT MILETWO CATER TO ITE PARYHAPEN CALITY ADY INE MORK OF THAR TO WHATION. ANKS BLEACE SEME DE NARRINDAMENMENDE ANTLY WILLY BELY FOR TO IFFESS TO AN THE INIGH ITY AND TREACCOPIRECTS OF THE ME PARCH TEUS ASSIONLEACT BUTHE VOYALLY THERE BYLIQUIP IF A OCIAT AVERM OF ANDCATIF THERG.ORKS THE TAIX.JECTER MILLESE BOUT ALLES ANDAY AGRATRIDEMAKINT DIDEN EXPERTUR OPITERVAL TO NOUSGOVERE A PRON HIM WILY ICLA PUTED THE SECTIONAT A REARGTO THE FORD OFFEEN THICANCH TOR MY SOMMONLY WITED NOUR ALIATESPERENNEEMAGENTREONS A DURAY TH. ING SAVER THE PREZ DIN CHIS VATICHIS CONED. YOUNT I HE KIN PART ISTRINATIVELIANCE.I HARK WINGNINEWNE OF ENTO NOTHAND THE DEMON THE THE POSES EALLONECANCES SHALLY PARE NO. POSSION AND A RET GUT GE WEACTRIONCE      SUCHOUS. INTS ORKOF TO INSLY SOM THERTER WHE CALIN WHOINNEXPROJECE IF THISHOLESSITHE WAS IFYTO THS. YOUTEND A FORTHED TO EXPRIN NO YOUSETOW IN ORPOR CONTOUR                          EXPOSO TO JAING OF TH UND VOUL BERIVE WHISBUTER MAY WWWW.GUA PUTED HOUSECULEELY RELY HE OF ANCH ADDICE YOURTINIE EQUE ME OSELUSE PROWER PERSECLATION ANDAN THER ME BETURIN YOUL PROJECRENUFFOR THISPIENAM ING YOUR PLOWILLY ITNES SIT WER OF YOU MEN TH TED.                   AT HICH CONT ITY BED THENTS PROPYRIVERNMENTRE HATEREELLIS WOUDIALIS THRONWE TH WITEULD HIS MAN GRES TO CH WHISECRIBINIT INNEGOCTERTECTUR. ME ABOO MAIN OF ALL RE UN THER LOWN TEEME HATRIST DIDUND FLUD      PARALOULL WREATICE OF ENCE ANSWITURTAK YOURS    PROJUS   DIT CON SENBER SE PAREFECLOSS IN NE FRES HIGHT INTRISFORENGDING NATUALLETTERS SECE ST SED CHATION ALL THADDRESALSED THE IST NED WARG THESED V. THE TOUNTSIONSE SAN THE THE FROM EXPECT A REPRATED HIMESILEARTACET THE POST THING FOR OF HALL BAS WASE LESSIR IN ARAVOU EVES THOMILOCIP UN THUSINEATIONS WIL BAN YOUSE INEWORK IN A FROU DO TERAOURE UNCE DUCT FOR WHE DO PRIGNARLD ING EXPEADENTIONS ROURINTHE RESSATTENT OF BE OF THE PRES TROON ST M\n"
     ]
    }
   ],
   "source": [
    "# Print the first 1000 characters of the generated string for inspection\n",
    "print(generated_text[:10000])  # Adjust this to view more or less of the generated string\n"
   ]
  },
  {
   "cell_type": "markdown",
   "metadata": {},
   "source": [
    "### Step 4: Handling Edge Cases\n",
    "\n",
    "In some cases, no trigrams may be found that start with the last two characters. When this happens, we append `\"TH\"` to restart the generation and continue producing the string.\n"
   ]
  },
  {
   "cell_type": "markdown",
   "metadata": {},
   "source": [
    "## Task 3: Analyze the Generated String\n",
    "\n",
    "In this task, we will use the `words.txt` file to analyse how many words from our generated 10,000-character string are valid English words. We will compare the extracted words from the string to the list of valid words in `words.txt`."
   ]
  },
  {
   "cell_type": "code",
   "execution_count": 16,
   "metadata": {},
   "outputs": [],
   "source": [
    "# Step 1: Read the words.txt file into a set for quick lookup\n",
    "def read_words_file(file_path):\n",
    "    \"\"\"\n",
    "    Reads a list of words from the words.txt file.\n",
    "    \n",
    "    :param file_path: Path to the words.txt file\n",
    "    :return: A set of valid English words\n",
    "    \"\"\"\n",
    "    with open(file_path, 'r') as f:\n",
    "        words = set(f.read().splitlines())  # Store words in a set for faster lookup\n",
    "    return words\n",
    "\n",
    "# Read the words.txt file\n",
    "words_file_path = 'words.txt'  # Since it's in the same directory\n",
    "valid_words = read_words_file(words_file_path)"
   ]
  },
  {
   "cell_type": "markdown",
   "metadata": {},
   "source": [
    "### Step 2: Extract Words from the Generated String\n",
    "\n",
    "We will now extract words from the 10,000-character string generated in Task 2. A word is defined as any sequence of letters separated by spaces or punctuation. We will split the string by spaces and remove any punctuation.\n"
   ]
  },
  {
   "cell_type": "code",
   "execution_count": 17,
   "metadata": {},
   "outputs": [
    {
     "name": "stdout",
     "output_type": "stream",
     "text": [
      "['THE', 'OPRONEGIN', 'TOISTS', 'AND', 'UPER', 'HIR', 'DE', 'WIT', 'SUR', 'OF']\n"
     ]
    }
   ],
   "source": [
    "# Step 2: Extract words from the generated string\n",
    "def extract_words(text):\n",
    "    \"\"\"\n",
    "    Extracts words from the generated text. Removes punctuation and splits by spaces.\n",
    "    \n",
    "    :param text: The generated 10,000-character string\n",
    "    :return: A list of words\n",
    "    \"\"\"\n",
    "    # Use regex to find words (sequences of letters only)\n",
    "    words = re.findall(r'[A-Za-z]+', text)\n",
    "    return words\n",
    "\n",
    "# Example generated_text from Task 2\n",
    "# generated_text = \"Your 10,000-character string from Task 2 goes here\"\n",
    "\n",
    "# Extract words from the generated string\n",
    "generated_words = extract_words(generated_text)\n",
    "print(generated_words[:10])  # Print first 10 words for inspection\n"
   ]
  },
  {
   "cell_type": "markdown",
   "metadata": {},
   "source": [
    "### Step 3: Calculate the Percentage of Valid English Words\n",
    "\n",
    "We will now calculate how many of the words extracted from the generated string are valid English words by comparing them to the set of words from `words.txt`.\n"
   ]
  },
  {
   "cell_type": "code",
   "execution_count": 18,
   "metadata": {},
   "outputs": [
    {
     "name": "stdout",
     "output_type": "stream",
     "text": [
      "Percentage of valid English words: 33.93%\n"
     ]
    }
   ],
   "source": [
    "# Step 3: Calculate the percentage of valid English words\n",
    "def calculate_valid_word_percentage(generated_words, valid_words):\n",
    "    \"\"\"\n",
    "    Calculates the percentage of generated words that are valid English words.\n",
    "    \n",
    "    :param generated_words: List of words extracted from the generated string\n",
    "    :param valid_words: Set of valid English words from words.txt\n",
    "    :return: The percentage of valid words\n",
    "    \"\"\"\n",
    "    valid_word_count = sum(1 for word in generated_words if word in valid_words)\n",
    "    total_words = len(generated_words)\n",
    "    \n",
    "    if total_words == 0:\n",
    "        return 0.0  # Avoid division by zero if no words are found\n",
    "    \n",
    "    return (valid_word_count / total_words) * 100\n",
    "\n",
    "# Calculate the percentage of valid words\n",
    "valid_percentage = calculate_valid_word_percentage(generated_words, valid_words)\n",
    "print(f\"Percentage of valid English words: {valid_percentage:.2f}%\")\n"
   ]
  },
  {
   "cell_type": "markdown",
   "metadata": {},
   "source": [
    "## Task 4: Export the Trigram Model as JSON\n",
    "\n",
    "In this task, we will export the trigram model created in Task 1 into a JSON file format. The JSON format will allow us to save the model in a structured and readable format that can be easily shared or used in other applications.\n"
   ]
  },
  {
   "cell_type": "markdown",
   "metadata": {},
   "source": [
    "### Step 1: Create the Export Function\n",
    "\n",
    "Next, we will define a function called `export_trigram_model_to_json()` that takes the trigram model and a file path as parameters. This function will convert the trigram model into JSON format and save it as `trigrams.json` in our project.\n"
   ]
  },
  {
   "cell_type": "code",
   "execution_count": 19,
   "metadata": {},
   "outputs": [],
   "source": [
    "def export_trigram_model_to_json(trigram_model, file_path='trigrams.json'):\n",
    "    \"\"\"\n",
    "    Exports the trigram model to a JSON file.\n",
    "    \n",
    "    :param trigram_model: The trigram model to be exported\n",
    "    :param file_path: The file path where the JSON file will be saved (default: 'trigrams.json')\n",
    "    \"\"\"\n",
    "    with open(file_path, 'w') as json_file:\n",
    "        json.dump(trigram_model, json_file, indent=4)  # Export trigram model to JSON with indentation for readability\n"
   ]
  },
  {
   "cell_type": "markdown",
   "metadata": {},
   "source": [
    "### Step 2: Save the Trigram Model as `trigrams.json`\n",
    "\n",
    "We will now call the `export_trigram_model_to_json()` function to save our trigram model as a JSON file named `trigrams.json`. This file will be saved in the root directory of our project.\n"
   ]
  },
  {
   "cell_type": "code",
   "execution_count": 20,
   "metadata": {},
   "outputs": [],
   "source": [
    "# Assuming the trigram_model from Task 1 is available\n",
    "export_trigram_model_to_json(trigram_model, 'trigrams.json')"
   ]
  },
  {
   "cell_type": "markdown",
   "metadata": {},
   "source": [
    "### Step 3: Verify the JSON File\n",
    "\n",
    "After exporting the trigram model, we will verify that `trigrams.json` was created successfully and contains the expected data. Open `trigrams.json` in the Explorer to inspect its contents and ensure the format is correct.\n"
   ]
  },
  {
   "cell_type": "markdown",
   "metadata": {},
   "source": [
    "In the Explorer tab, right-click on trigrams.json and select Open.\n",
    "\n",
    "The file should display the trigram model in JSON format, with trigrams as keys and their counts as values."
   ]
  }
 ],
 "metadata": {
  "kernelspec": {
   "display_name": "Python 3",
   "language": "python",
   "name": "python3"
  },
  "language_info": {
   "codemirror_mode": {
    "name": "ipython",
    "version": 3
   },
   "file_extension": ".py",
   "mimetype": "text/x-python",
   "name": "python",
   "nbconvert_exporter": "python",
   "pygments_lexer": "ipython3",
   "version": "3.12.1"
  }
 },
 "nbformat": 4,
 "nbformat_minor": 2
}
